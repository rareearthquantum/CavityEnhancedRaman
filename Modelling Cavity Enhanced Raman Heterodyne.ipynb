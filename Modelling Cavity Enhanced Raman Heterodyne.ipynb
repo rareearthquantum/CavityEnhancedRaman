{
 "cells": [
  {
   "cell_type": "markdown",
   "metadata": {},
   "source": [
    "# Setup"
   ]
  },
  {
   "cell_type": "markdown",
   "metadata": {
    "ExecuteTime": {
     "start_time": "2019-03-07T09:52:30.863Z"
    }
   },
   "source": [
    "## Set the fineness of the grids used in the calculations\n",
    "\n",
    "The variable `patience` determines how long the calculations will take to run\n",
    "\n",
    "* 0 - Coarse, and quick, results dubious but it runs fast (seconds)\n",
    "* 1 - Results meaningful, but small number of points on graphs. (~10 min)\n",
    "* 2 - Fine grids for pretty graphs. (~1 hour)\n"
   ]
  },
  {
   "cell_type": "code",
   "execution_count": 3,
   "metadata": {
    "ExecuteTime": {
     "end_time": "2019-05-22T06:21:19.367278Z",
     "start_time": "2019-05-22T06:21:19.361433Z"
    }
   },
   "outputs": [],
   "source": [
    "patience  = 0"
   ]
  },
  {
   "cell_type": "markdown",
   "metadata": {},
   "source": [
    "## Import the required libraries\n"
   ]
  },
  {
   "cell_type": "code",
   "execution_count": 4,
   "metadata": {
    "ExecuteTime": {
     "end_time": "2019-05-22T06:21:20.367564Z",
     "start_time": "2019-05-22T06:21:19.372147Z"
    }
   },
   "outputs": [
    {
     "name": "stdout",
     "output_type": "stream",
     "text": [
      "The cython extension is already loaded. To reload it, use:\n",
      "  %reload_ext cython\n"
     ]
    }
   ],
   "source": [
    "import sympy as sym\n",
    "sym.init_printing()\n",
    "from sympy import I, Matrix, symbols\n",
    "from sympy.physics.quantum import TensorProduct, Dagger\n",
    "from sympy.printing import print_ccode\n",
    "\n",
    "import numpy as np\n",
    "\n",
    "import math\n",
    "from math import pi\n",
    "\n",
    "from scipy import integrate, signal\n",
    "import scipy.optimize\n",
    "import scipy.constants as const\n",
    "import scipy.io as sio\n",
    "\n",
    "import matplotlib.pyplot as plt\n",
    "from matplotlib.colors import Normalize as Norm\n",
    "\n",
    "import qutip\n",
    "\n",
    "import time\n",
    "\n",
    "%load_ext cython"
   ]
  },
  {
   "cell_type": "markdown",
   "metadata": {},
   "source": [
    "## Some functions to help us make Liovillian superoperators\n",
    "- Here we use an approach very similar to [qutip](https://qutip.org) and the [qotoolbox](https://qo.phy.auckland.ac.nz/toolbox/), reading the documention for those two packages might help make sense of spre, spost, etc\n",
    "- This notebook uses Fortran order (column first) when flattening matricies"
   ]
  },
  {
   "cell_type": "code",
   "execution_count": 5,
   "metadata": {
    "ExecuteTime": {
     "end_time": "2019-05-22T06:21:20.371847Z",
     "start_time": "2019-05-22T06:21:20.369062Z"
    }
   },
   "outputs": [],
   "source": [
    "def spre(m):\n",
    "    return TensorProduct(sym.eye(m.shape[0]), m)\n",
    "\n",
    "\n",
    "def spost(m):\n",
    "    return TensorProduct(m.T, sym.eye(m.shape[0]))\n",
    "\n",
    "\n",
    "def collapse(c):\n",
    "    temp = Dagger(c)*c/2\n",
    "    return spre(c)*spost(Dagger(c)) - spre(temp) - spost(temp)"
   ]
  },
  {
   "cell_type": "markdown",
   "metadata": {
    "ExecuteTime": {
     "end_time": "2019-03-07T00:41:52.425586Z",
     "start_time": "2019-03-07T00:41:52.422741Z"
    }
   },
   "source": [
    "## Define atomic operators \n",
    "For example s13 is $|1\\rangle\\langle3|$ "
   ]
  },
  {
   "cell_type": "code",
   "execution_count": 6,
   "metadata": {
    "ExecuteTime": {
     "end_time": "2019-05-22T06:21:20.377052Z",
     "start_time": "2019-05-22T06:21:20.373088Z"
    }
   },
   "outputs": [],
   "source": [
    "s13 = Matrix([[0, 0, 1], [0, 0, 0], [0, 0, 0]])\n",
    "s23 = Matrix([[0, 0, 0], [0, 0, 1], [0, 0, 0]])\n",
    "s12 = Matrix([[0, 1, 0], [0, 0, 0], [0, 0, 0]])\n",
    "\n",
    "s31 = s13.T\n",
    "s32 = s23.T\n",
    "s21 = s12.T\n",
    "\n",
    "s11 = s12*s21\n",
    "s22 = s21*s12\n",
    "s33 = s31*s13"
   ]
  },
  {
   "cell_type": "markdown",
   "metadata": {},
   "source": [
    "## The symbolic variables we will use\n",
    "- $\\delta_2, \\delta_3$ --  the detunings of the second and third atomic level respectively\n",
    "- $\\gamma_{13}, \\gamma_{23}$ -- respectively the spontaneous emission rates from the excited state down the ground state and down to the second atomic level.\n",
    "- $\\gamma_{2d}, \\gamma_{3d}$ -- the dephasing rates for the second atomic level and the optical excited state.\n",
    "- $n_b$ -- the number of thermal photons in the bath coupled to the microwave transition\n",
    "- $\\gamma_\\mu$ -- coupling rate between the $|1\\rangle \\rightarrow |2\\rangle$ transition and this bath.\n",
    "- $\\Omega_o$ -- rabi frequency for the optical pump (drives the $|2\\rangle \\rightarrow |3\\rangle$ transition) taken to be real\n",
    "- $\\Omega_\\mu$ -- rabi frequency for the microwave input (drives the $|1\\rangle \\rightarrow |2\\rangle$ transition)\n",
    "- $\\rho_{xy}$ -- components of the atomic density matrix\n",
    "- $a$ -- cavity mode amplitude (scale is chosen like it's the operator $a$ even though we only treat it classically)\n",
    "- $a_r, a_i$ -- real and imaginary parts of $a$\n",
    "- $g$ -- coupling rate of a single atom between the  $|1\\rangle \\rightarrow |3\\rangle$ transition and the output optical cavity mode."
   ]
  },
  {
   "cell_type": "code",
   "execution_count": 7,
   "metadata": {
    "ExecuteTime": {
     "end_time": "2019-05-22T06:21:20.381182Z",
     "start_time": "2019-05-22T06:21:20.377964Z"
    }
   },
   "outputs": [],
   "source": [
    "delta2, delta3 = sym.symbols('delta_2 delta_3', real=True)\n",
    "\n",
    "(gamma13, gamma23, gamma2d,\n",
    " gamma3d, nbath, gammamu) = sym.symbols(\n",
    "    'gamma_13 gamma_23 gamma_2d gamma_3d n_b gamma_mu',\n",
    "    real=True, negative=False)\n",
    "\n",
    "omegao = sym.symbols('Omega_o', real=True, negative=False)\n",
    "omegam = sym.symbols('Omega_mu', real=True, negative=False)\n",
    "# omegamr, omegami = sym.symbols('Omega_mu_r Omega_mu_i',\n",
    "#                                                real = True)\n",
    "\n",
    "(rho11, rho12, rho13, rho21, rho22,\n",
    " rho23, rho31, rho32, rho33) = sym.symbols(\n",
    "    'rho_11 rho_12 rho_13 rho_21 rho_22 rho_23 rho_31 rho_32 rho_33')\n",
    "\n",
    "a = sym.symbols('a')\n",
    "ar, ai = sym.symbols('a_r a_i', real=True)\n",
    "\n",
    "g = sym.symbols('g', real=True, negative=False)"
   ]
  },
  {
   "cell_type": "markdown",
   "metadata": {},
   "source": [
    "# Constructing the Liovillian analytically"
   ]
  },
  {
   "cell_type": "code",
   "execution_count": 8,
   "metadata": {
    "ExecuteTime": {
     "end_time": "2019-05-22T06:21:20.452316Z",
     "start_time": "2019-05-22T06:21:20.382255Z"
    }
   },
   "outputs": [],
   "source": [
    "# Make the Hamiltonian\n",
    "H = omegam*s21 + omegao*s32 + g*a*s31\n",
    "H = H + Dagger(H)\n",
    "H = H + delta2*s22 + delta3*s33\n",
    "\n",
    "# Make the Liovillian\n",
    "LH = -I*spre(H)+I*spost(H)\n",
    "L21 = gammamu*(nbath+1)*collapse(s12)\n",
    "L12 = gammamu*(nbath)*collapse(s21)\n",
    "L32 = gamma23*collapse(s23)\n",
    "L31 = gamma13*collapse(s13)\n",
    "L22 = gamma2d*collapse(s22)\n",
    "L33 = gamma3d*collapse(s33)\n",
    "\n",
    "L = LH + L21 + L12 + L32 + L31 + L22 + L33\n",
    "\n",
    "# Rather than use the actual Liovillian we will use a modified Liovillian\n",
    "# with the first row replaced a collections of ones and zeros that calculates\n",
    "# what the trace of the density matrix would have been before it was flattened\n",
    "\n",
    "L = L.row_insert(0, Matrix([[1, 0, 0, 0, 1, 0, 0, 0, 1]]))\n",
    "L.row_del(1)\n",
    "\n",
    "# The modified Liovillian is a  matrix that can be inverted\n",
    "# The condition for the steady state is now L*rho=V\n",
    "# where V = [1,0,0, 0,0,0, 0,0,0].T"
   ]
  },
  {
   "cell_type": "code",
   "execution_count": 9,
   "metadata": {
    "ExecuteTime": {
     "end_time": "2019-05-22T06:21:20.545177Z",
     "start_time": "2019-05-22T06:21:20.453473Z"
    }
   },
   "outputs": [
    {
     "data": {
      "image/png": "[encoded data removed]",
      "text/latex": [
       "$\\displaystyle \\left[\\begin{matrix}1 & 0 & 0\\\\- i \\Omega_{\\mu} & - i \\delta_{2} - \\frac{\\gamma_{2d}}{2} - \\frac{\\gamma_{\\mu} n_{b}}{2} - \\frac{\\gamma_{\\mu} \\left(n_{b} + 1\\right)}{2} & - i \\Omega_{o}\\\\- i a g & - i \\Omega_{o} & - i \\delta_{3} - \\frac{\\gamma_{13}}{2} - \\frac{\\gamma_{23}}{2} - \\frac{\\gamma_{3d}}{2} - \\frac{\\gamma_{\\mu} n_{b}}{2}\\\\i \\Omega_{\\mu} & 0 & 0\\\\\\gamma_{\\mu} n_{b} & i \\Omega_{\\mu} & 0\\\\0 & 0 & i \\Omega_{\\mu}\\\\i g \\overline{a} & 0 & 0\\\\0 & i g \\overline{a} & 0\\\\0 & 0 & i g \\overline{a}\\end{matrix}\\right]$"
      ],
      "text/plain": [
       "⎡   1                       0                                     0                 ⎤\n",
       "⎢                                                                                   ⎥\n",
       "⎢                 γ_2d   γₘᵤ⋅n_b   γₘᵤ⋅(n_b + 1)                                    ⎥\n",
       "⎢-ⅈ⋅Ωₘᵤ   -ⅈ⋅δ₂ - ──── - ─────── - ─────────────                -ⅈ⋅Ωₒ               ⎥\n",
       "⎢                  2        2            2                                          ⎥\n",
       "⎢                                                                                   ⎥\n",
       "⎢                                                         γ₁₃   γ₂₃   γ_3d   γₘᵤ⋅n_b⎥\n",
       "⎢-ⅈ⋅a⋅g                   -ⅈ⋅Ωₒ                   -ⅈ⋅δ₃ - ─── - ─── - ──── - ───────⎥\n",
       "⎢                                                          2     2     2        2   ⎥\n",
       "⎢                                                                                   ⎥\n",
       "⎢ ⅈ⋅Ωₘᵤ                     0                                     0                 ⎥\n",
       "⎢                                                                                   ⎥\n",
       "⎢γₘᵤ⋅n_b                  ⅈ⋅Ωₘᵤ                                   0                 ⎥\n",
       "⎢                                                                                   ⎥\n",
       "⎢   0                       0                                   ⅈ⋅Ωₘᵤ               ⎥\n",
       "⎢                                                                                   ⎥\n",
       "⎢     _                                                                             ⎥\n",
       "⎢ ⅈ⋅g⋅a                     0                                     0                 ⎥\n",
       "⎢                                                                                   ⎥\n",
       "⎢                             _                                                     ⎥\n",
       "⎢   0                     ⅈ⋅g⋅a                                   0                 ⎥\n",
       "⎢                                                                                   ⎥\n",
       "⎢                                                                   _               ⎥\n",
       "⎣   0                       0                                   ⅈ⋅g⋅a               ⎦"
      ]
     },
     "execution_count": 9,
     "metadata": {},
     "output_type": "execute_result"
    }
   ],
   "source": [
    "# The Liovillian is presented in chunks because it is\n",
    "# too wide to show together when exporting this notebook to PDF\n",
    "L[:, 0:3]"
   ]
  },
  {
   "cell_type": "code",
   "execution_count": 10,
   "metadata": {
    "ExecuteTime": {
     "end_time": "2019-05-22T06:21:20.636231Z",
     "start_time": "2019-05-22T06:21:20.546471Z"
    }
   },
   "outputs": [
    {
     "data": {
      "image/png": "[encoded data removed]",
      "text/latex": [
       "$\\displaystyle \\left[\\begin{matrix}0 & 1 & 0\\\\0 & i \\Omega_{\\mu} & 0\\\\0 & 0 & i \\Omega_{\\mu}\\\\i \\delta_{2} - \\frac{\\gamma_{2d}}{2} - \\frac{\\gamma_{\\mu} n_{b}}{2} - \\frac{\\gamma_{\\mu} \\left(n_{b} + 1\\right)}{2} & - i \\Omega_{\\mu} & - i g \\overline{a}\\\\- i \\Omega_{\\mu} & - \\gamma_{\\mu} \\left(n_{b} + 1\\right) & - i \\Omega_{o}\\\\- i a g & - i \\Omega_{o} & i \\delta_{2} - i \\delta_{3} - \\frac{\\gamma_{13}}{2} - \\frac{\\gamma_{23}}{2} - \\frac{\\gamma_{2d}}{2} - \\frac{\\gamma_{3d}}{2} - \\frac{\\gamma_{\\mu} \\left(n_{b} + 1\\right)}{2}\\\\i \\Omega_{o} & 0 & 0\\\\0 & i \\Omega_{o} & 0\\\\0 & 0 & i \\Omega_{o}\\end{matrix}\\right]$"
      ],
      "text/plain": [
       "⎡                  0                          1                                   0        \n",
       "⎢                                                                                          \n",
       "⎢                  0                        ⅈ⋅Ωₘᵤ                                 0        \n",
       "⎢                                                                                          \n",
       "⎢                  0                          0                                 ⅈ⋅Ωₘᵤ      \n",
       "⎢                                                                                          \n",
       "⎢       γ_2d   γₘᵤ⋅n_b   γₘᵤ⋅(n_b + 1)                                              _      \n",
       "⎢ⅈ⋅δ₂ - ──── - ─────── - ─────────────      -ⅈ⋅Ωₘᵤ                             -ⅈ⋅g⋅a      \n",
       "⎢        2        2            2                                                           \n",
       "⎢                                                                                          \n",
       "⎢               -ⅈ⋅Ωₘᵤ                  -γₘᵤ⋅(n_b + 1)                          -ⅈ⋅Ωₒ      \n",
       "⎢                                                                                          \n",
       "⎢                                                                     γ₁₃   γ₂₃   γ_2d   γ_\n",
       "⎢               -ⅈ⋅a⋅g                      -ⅈ⋅Ωₒ       ⅈ⋅δ₂ - ⅈ⋅δ₃ - ─── - ─── - ──── - ──\n",
       "⎢                                                                      2     2     2      2\n",
       "⎢                                                                                          \n",
       "⎢                ⅈ⋅Ωₒ                         0                                   0        \n",
       "⎢                                                                                          \n",
       "⎢                  0                         ⅈ⋅Ωₒ                                 0        \n",
       "⎢                                                                                          \n",
       "⎣                  0                          0                                 ⅈ⋅Ωₒ       \n",
       "\n",
       "                  ⎤\n",
       "                  ⎥\n",
       "                  ⎥\n",
       "                  ⎥\n",
       "                  ⎥\n",
       "                  ⎥\n",
       "                  ⎥\n",
       "                  ⎥\n",
       "                  ⎥\n",
       "                  ⎥\n",
       "                  ⎥\n",
       "                  ⎥\n",
       "3d   γₘᵤ⋅(n_b + 1)⎥\n",
       "── - ─────────────⎥\n",
       "           2      ⎥\n",
       "                  ⎥\n",
       "                  ⎥\n",
       "                  ⎥\n",
       "                  ⎥\n",
       "                  ⎥\n",
       "                  ⎦"
      ]
     },
     "execution_count": 10,
     "metadata": {},
     "output_type": "execute_result"
    }
   ],
   "source": [
    "L[:, 3:6]"
   ]
  },
  {
   "cell_type": "code",
   "execution_count": 11,
   "metadata": {
    "ExecuteTime": {
     "end_time": "2019-05-22T06:21:20.725959Z",
     "start_time": "2019-05-22T06:21:20.637605Z"
    }
   },
   "outputs": [
    {
     "data": {
      "image/png": "[encoded data removed]",
      "text/latex": [
       "$\\displaystyle \\left[\\begin{matrix}0 & 0 & 1\\\\0 & i a g & 0\\\\0 & 0 & i a g\\\\i \\Omega_{o} & 0 & 0\\\\0 & i \\Omega_{o} & \\gamma_{23}\\\\0 & 0 & i \\Omega_{o}\\\\i \\delta_{3} - \\frac{\\gamma_{13}}{2} - \\frac{\\gamma_{23}}{2} - \\frac{\\gamma_{3d}}{2} - \\frac{\\gamma_{\\mu} n_{b}}{2} & - i \\Omega_{\\mu} & - i g \\overline{a}\\\\- i \\Omega_{\\mu} & - i \\delta_{2} + i \\delta_{3} - \\frac{\\gamma_{13}}{2} - \\frac{\\gamma_{23}}{2} - \\frac{\\gamma_{2d}}{2} - \\frac{\\gamma_{3d}}{2} - \\frac{\\gamma_{\\mu} \\left(n_{b} + 1\\right)}{2} & - i \\Omega_{o}\\\\- i a g & - i \\Omega_{o} & - \\gamma_{13} - \\gamma_{23}\\end{matrix}\\right]$"
      ],
      "text/plain": [
       "⎡                0                                            0                            \n",
       "⎢                                                                                          \n",
       "⎢                0                                          ⅈ⋅a⋅g                          \n",
       "⎢                                                                                          \n",
       "⎢                0                                            0                            \n",
       "⎢                                                                                          \n",
       "⎢              ⅈ⋅Ωₒ                                           0                            \n",
       "⎢                                                                                          \n",
       "⎢                0                                           ⅈ⋅Ωₒ                          \n",
       "⎢                                                                                          \n",
       "⎢                0                                            0                            \n",
       "⎢                                                                                          \n",
       "⎢       γ₁₃   γ₂₃   γ_3d   γₘᵤ⋅n_b                                                         \n",
       "⎢ⅈ⋅δ₃ - ─── - ─── - ──── - ───────                          -ⅈ⋅Ωₘᵤ                         \n",
       "⎢        2     2     2        2                                                            \n",
       "⎢                                                                                          \n",
       "⎢                                                  γ₁₃   γ₂₃   γ_2d   γ_3d   γₘᵤ⋅(n_b + 1) \n",
       "⎢             -ⅈ⋅Ωₘᵤ                -ⅈ⋅δ₂ + ⅈ⋅δ₃ - ─── - ─── - ──── - ──── - ───────────── \n",
       "⎢                                                   2     2     2      2           2       \n",
       "⎢                                                                                          \n",
       "⎣             -ⅈ⋅a⋅g                                        -ⅈ⋅Ωₒ                          \n",
       "\n",
       "     1     ⎤\n",
       "           ⎥\n",
       "     0     ⎥\n",
       "           ⎥\n",
       "   ⅈ⋅a⋅g   ⎥\n",
       "           ⎥\n",
       "     0     ⎥\n",
       "           ⎥\n",
       "    γ₂₃    ⎥\n",
       "           ⎥\n",
       "    ⅈ⋅Ωₒ   ⎥\n",
       "           ⎥\n",
       "        _  ⎥\n",
       "   -ⅈ⋅g⋅a  ⎥\n",
       "           ⎥\n",
       "           ⎥\n",
       "           ⎥\n",
       "   -ⅈ⋅Ωₒ   ⎥\n",
       "           ⎥\n",
       "           ⎥\n",
       " -γ₁₃ - γ₂₃⎦"
      ]
     },
     "execution_count": 11,
     "metadata": {},
     "output_type": "execute_result"
    }
   ],
   "source": [
    "L[:, 6:9]"
   ]
  },
  {
   "cell_type": "code",
   "execution_count": 12,
   "metadata": {
    "ExecuteTime": {
     "end_time": "2019-05-22T06:21:20.810098Z",
     "start_time": "2019-05-22T06:21:20.727275Z"
    }
   },
   "outputs": [
    {
     "data": {
      "image/png": "[encoded data removed]",
      "text/latex": [
       "$\\displaystyle \\left[\\begin{matrix}0 & \\Omega_{\\mu} & g \\overline{a}\\\\\\Omega_{\\mu} & \\delta_{2} & \\Omega_{o}\\\\a g & \\Omega_{o} & \\delta_{3}\\end{matrix}\\right]$"
      ],
      "text/plain": [
       "⎡            _⎤\n",
       "⎢ 0   Ωₘᵤ  g⋅a⎥\n",
       "⎢             ⎥\n",
       "⎢Ωₘᵤ  δ₂   Ωₒ ⎥\n",
       "⎢             ⎥\n",
       "⎣a⋅g  Ωₒ   δ₃ ⎦"
      ]
     },
     "execution_count": 12,
     "metadata": {},
     "output_type": "execute_result"
    }
   ],
   "source": [
    "H"
   ]
  },
  {
   "cell_type": "code",
   "execution_count": 13,
   "metadata": {
    "ExecuteTime": {
     "end_time": "2019-05-22T06:21:20.888963Z",
     "start_time": "2019-05-22T06:21:20.811387Z"
    }
   },
   "outputs": [
    {
     "data": {
      "image/png": "[encoded data removed]",
      "text/latex": [
       "$\\displaystyle \\left[\\begin{matrix}\\rho_{11} & \\rho_{21} & \\rho_{31}\\\\\\rho_{12} & \\rho_{22} & \\rho_{32}\\\\\\rho_{13} & \\rho_{23} & \\rho_{33}\\end{matrix}\\right]$"
      ],
      "text/plain": [
       "⎡ρ₁₁  ρ₂₁  ρ₃₁⎤\n",
       "⎢             ⎥\n",
       "⎢ρ₁₂  ρ₂₂  ρ₃₂⎥\n",
       "⎢             ⎥\n",
       "⎣ρ₁₃  ρ₂₃  ρ₃₃⎦"
      ]
     },
     "execution_count": 13,
     "metadata": {},
     "output_type": "execute_result"
    }
   ],
   "source": [
    "rho = Matrix([[rho11, rho21, rho31],\n",
    "              [rho12, rho22, rho32],\n",
    "              [rho13, rho23, rho33]])\n",
    "rho"
   ]
  },
  {
   "cell_type": "code",
   "execution_count": 14,
   "metadata": {
    "ExecuteTime": {
     "end_time": "2019-05-22T06:21:20.968493Z",
     "start_time": "2019-05-22T06:21:20.890383Z"
    }
   },
   "outputs": [
    {
     "data": {
      "image/png": "[encoded data removed]",
      "text/latex": [
       "$\\displaystyle \\left[ \\rho_{11}, \\  \\rho_{21}, \\  \\rho_{31}, \\  \\rho_{12}, \\  \\rho_{22}, \\  \\rho_{32}, \\  \\rho_{13}, \\  \\rho_{23}, \\  \\rho_{33}\\right]$"
      ],
      "text/plain": [
       "[ρ₁₁, ρ₂₁, ρ₃₁, ρ₁₂, ρ₂₂, ρ₃₂, ρ₁₃, ρ₂₃, ρ₃₃]"
      ]
     },
     "execution_count": 14,
     "metadata": {},
     "output_type": "execute_result"
    }
   ],
   "source": [
    "# rho flattened out to a vector\n",
    "rho = 1*rho.T  # because we are using \"fortran\" style matrix flatteneing\n",
    "rho[:]\n",
    "rhoflat = 1*rho.T\n",
    "rhoflat = rhoflat[:]\n",
    "rhoflat"
   ]
  },
  {
   "cell_type": "markdown",
   "metadata": {
    "ExecuteTime": {
     "end_time": "2019-03-07T01:04:29.892740Z",
     "start_time": "2019-03-07T01:04:29.889215Z"
    }
   },
   "source": [
    "## Change of basis\n",
    "We now transform the \"basis\" we use for our flattened density matrix so that all the elements are real. This means that we are solving a 9x9 system with real varaiables rather than a 9x9 system with complex variables and redundancy.\n"
   ]
  },
  {
   "cell_type": "code",
   "execution_count": 15,
   "metadata": {
    "ExecuteTime": {
     "end_time": "2019-05-22T06:21:20.974291Z",
     "start_time": "2019-05-22T06:21:20.969897Z"
    }
   },
   "outputs": [],
   "source": [
    "CtoR = Matrix([[2, 0, 0, 0, 0, 0, 0, 0, 0],\n",
    "               [0, 0, 0, 0, 2, 0, 0, 0, 0],\n",
    "               [0, 0, 0, 0, 0, 0, 0, 0, 2],\n",
    "               [0, 1, 0, 1, 0, 0, 0, 0, 0],\n",
    "               [0, I, 0, -I, 0, 0, 0, 0, 0],\n",
    "               [0, 0, 1, 0, 0, 0, 1, 0, 0],\n",
    "               [0, 0, I, 0, 0, 0, -I, 0, 0],\n",
    "               [0, 0, 0, 0, 0, 1, 0, 1, 0],\n",
    "               [0, 0, 0, 0, 0, I, 0, -I, 0]\n",
    "               ])/2"
   ]
  },
  {
   "cell_type": "code",
   "execution_count": 16,
   "metadata": {
    "ExecuteTime": {
     "end_time": "2019-05-22T06:21:21.066600Z",
     "start_time": "2019-05-22T06:21:20.975424Z"
    },
    "scrolled": true
   },
   "outputs": [
    {
     "data": {
      "image/png": "[encoded data removed]",
      "text/latex": [
       "$\\displaystyle \\left[\\begin{matrix}\\rho_{11}\\\\\\rho_{22}\\\\\\rho_{33}\\\\\\frac{\\rho_{12}}{2} + \\frac{\\rho_{21}}{2}\\\\- \\frac{i \\rho_{12}}{2} + \\frac{i \\rho_{21}}{2}\\\\\\frac{\\rho_{13}}{2} + \\frac{\\rho_{31}}{2}\\\\- \\frac{i \\rho_{13}}{2} + \\frac{i \\rho_{31}}{2}\\\\\\frac{\\rho_{23}}{2} + \\frac{\\rho_{32}}{2}\\\\- \\frac{i \\rho_{23}}{2} + \\frac{i \\rho_{32}}{2}\\end{matrix}\\right]$"
      ],
      "text/plain": [
       "⎡      ρ₁₁      ⎤\n",
       "⎢               ⎥\n",
       "⎢      ρ₂₂      ⎥\n",
       "⎢               ⎥\n",
       "⎢      ρ₃₃      ⎥\n",
       "⎢               ⎥\n",
       "⎢   ρ₁₂   ρ₂₁   ⎥\n",
       "⎢   ─── + ───   ⎥\n",
       "⎢    2     2    ⎥\n",
       "⎢               ⎥\n",
       "⎢  ⅈ⋅ρ₁₂   ⅈ⋅ρ₂₁⎥\n",
       "⎢- ───── + ─────⎥\n",
       "⎢    2       2  ⎥\n",
       "⎢               ⎥\n",
       "⎢   ρ₁₃   ρ₃₁   ⎥\n",
       "⎢   ─── + ───   ⎥\n",
       "⎢    2     2    ⎥\n",
       "⎢               ⎥\n",
       "⎢  ⅈ⋅ρ₁₃   ⅈ⋅ρ₃₁⎥\n",
       "⎢- ───── + ─────⎥\n",
       "⎢    2       2  ⎥\n",
       "⎢               ⎥\n",
       "⎢   ρ₂₃   ρ₃₂   ⎥\n",
       "⎢   ─── + ───   ⎥\n",
       "⎢    2     2    ⎥\n",
       "⎢               ⎥\n",
       "⎢  ⅈ⋅ρ₂₃   ⅈ⋅ρ₃₂⎥\n",
       "⎢- ───── + ─────⎥\n",
       "⎣    2       2  ⎦"
      ]
     },
     "execution_count": 16,
     "metadata": {},
     "output_type": "execute_result"
    }
   ],
   "source": [
    "# This is our new vector to describe the atom density matrix\n",
    "t = CtoR*Matrix(rhoflat)\n",
    "t"
   ]
  },
  {
   "cell_type": "code",
   "execution_count": 17,
   "metadata": {
    "ExecuteTime": {
     "end_time": "2019-05-22T06:21:21.482811Z",
     "start_time": "2019-05-22T06:21:21.068090Z"
    }
   },
   "outputs": [],
   "source": [
    "# Our modified Liovillian in this new basis\n",
    "Lreal = sym.simplify(CtoR*L*CtoR.inv())\n",
    "Lreal = Lreal.subs(a, ar+I*ai)\n"
   ]
  },
  {
   "cell_type": "code",
   "execution_count": 18,
   "metadata": {
    "ExecuteTime": {
     "end_time": "2019-05-22T06:21:21.575597Z",
     "start_time": "2019-05-22T06:21:21.484038Z"
    }
   },
   "outputs": [
    {
     "data": {
      "image/png": "[encoded data removed]",
      "text/latex": [
       "$\\displaystyle \\left[\\begin{matrix}1 & 1 & 1 & 0 & 0 & 0\\\\\\gamma_{\\mu} n_{b} & - \\gamma_{\\mu} \\left(n_{b} + 1\\right) & \\gamma_{23} & 0 & 2 \\Omega_{\\mu} & 0\\\\0 & 0 & - \\gamma_{13} - \\gamma_{23} & 0 & 0 & 2 a_{i} g\\\\0 & 0 & 0 & - \\frac{\\gamma_{2d}}{2} - \\gamma_{\\mu} n_{b} - \\frac{\\gamma_{\\mu}}{2} & - \\delta_{2} & 0\\\\\\Omega_{\\mu} & - \\Omega_{\\mu} & 0 & \\delta_{2} & - \\frac{\\gamma_{2d}}{2} - \\gamma_{\\mu} n_{b} - \\frac{\\gamma_{\\mu}}{2} & \\Omega_{o}\\\\a_{i} g & 0 & - a_{i} g & 0 & - \\Omega_{o} & - \\frac{\\gamma_{13}}{2} - \\frac{\\gamma_{23}}{2} - \\frac{\\gamma_{3d}}{2} - \\frac{\\gamma_{\\mu} n_{b}}{2}\\\\a_{r} g & 0 & - a_{r} g & \\Omega_{o} & 0 & \\delta_{3}\\\\0 & 0 & 0 & a_{i} g & a_{r} g & 0\\\\0 & \\Omega_{o} & - \\Omega_{o} & a_{r} g & - a_{i} g & - \\Omega_{\\mu}\\end{matrix}\\right]$"
      ],
      "text/plain": [
       "⎡   1           1             1                 0                       0                  \n",
       "⎢                                                                                          \n",
       "⎢γₘᵤ⋅n_b  -γₘᵤ⋅(n_b + 1)     γ₂₃                0                     2⋅Ωₘᵤ                \n",
       "⎢                                                                                          \n",
       "⎢   0           0         -γ₁₃ - γ₂₃            0                       0                  \n",
       "⎢                                                                                          \n",
       "⎢                                       γ_2d             γₘᵤ                               \n",
       "⎢   0           0             0       - ──── - γₘᵤ⋅n_b - ───           -δ₂                 \n",
       "⎢                                        2                2                                \n",
       "⎢                                                                                          \n",
       "⎢                                                               γ_2d             γₘᵤ       \n",
       "⎢  Ωₘᵤ         -Ωₘᵤ           0                 δ₂            - ──── - γₘᵤ⋅n_b - ───       \n",
       "⎢                                                                2                2        \n",
       "⎢                                                                                          \n",
       "⎢                                                                                       γ₁₃\n",
       "⎢ aᵢ⋅g          0           -aᵢ⋅g               0                      -Ωₒ            - ───\n",
       "⎢                                                                                        2 \n",
       "⎢                                                                                          \n",
       "⎢ aᵣ⋅g          0           -aᵣ⋅g               Ωₒ                      0                  \n",
       "⎢                                                                                          \n",
       "⎢   0           0             0                aᵢ⋅g                    aᵣ⋅g                \n",
       "⎢                                                                                          \n",
       "⎣   0           Ωₒ           -Ωₒ               aᵣ⋅g                   -aᵢ⋅g                \n",
       "\n",
       "        0              ⎤\n",
       "                       ⎥\n",
       "        0              ⎥\n",
       "                       ⎥\n",
       "      2⋅aᵢ⋅g           ⎥\n",
       "                       ⎥\n",
       "                       ⎥\n",
       "        0              ⎥\n",
       "                       ⎥\n",
       "                       ⎥\n",
       "                       ⎥\n",
       "        Ωₒ             ⎥\n",
       "                       ⎥\n",
       "                       ⎥\n",
       "   γ₂₃   γ_3d   γₘᵤ⋅n_b⎥\n",
       " - ─── - ──── - ───────⎥\n",
       "    2     2        2   ⎥\n",
       "                       ⎥\n",
       "        δ₃             ⎥\n",
       "                       ⎥\n",
       "        0              ⎥\n",
       "                       ⎥\n",
       "       -Ωₘᵤ            ⎦"
      ]
     },
     "execution_count": 18,
     "metadata": {},
     "output_type": "execute_result"
    }
   ],
   "source": [
    "# The Lreal matrix in chuncks because it gets truncated exporting to pdf\n",
    "Lreal[:, 0:6]"
   ]
  },
  {
   "cell_type": "code",
   "execution_count": 19,
   "metadata": {
    "ExecuteTime": {
     "end_time": "2019-05-22T06:21:21.668898Z",
     "start_time": "2019-05-22T06:21:21.576944Z"
    }
   },
   "outputs": [
    {
     "data": {
      "image/png": "[encoded data removed]",
      "text/latex": [
       "$\\displaystyle \\left[\\begin{matrix}0 & 0 & 0\\\\0 & 0 & - 2 \\Omega_{o}\\\\2 a_{r} g & 0 & 2 \\Omega_{o}\\\\- \\Omega_{o} & - a_{i} g & - a_{r} g\\\\0 & - a_{r} g & a_{i} g\\\\- \\delta_{3} & 0 & \\Omega_{\\mu}\\\\- \\frac{\\gamma_{13}}{2} - \\frac{\\gamma_{23}}{2} - \\frac{\\gamma_{3d}}{2} - \\frac{\\gamma_{\\mu} n_{b}}{2} & - \\Omega_{\\mu} & 0\\\\\\Omega_{\\mu} & - \\frac{\\gamma_{13}}{2} - \\frac{\\gamma_{23}}{2} - \\frac{\\gamma_{2d}}{2} - \\frac{\\gamma_{3d}}{2} - \\frac{\\gamma_{\\mu} \\left(n_{b} + 1\\right)}{2} & \\delta_{2} - \\delta_{3}\\\\0 & - \\delta_{2} + \\delta_{3} & - \\frac{\\gamma_{13}}{2} - \\frac{\\gamma_{23}}{2} - \\frac{\\gamma_{2d}}{2} - \\frac{\\gamma_{3d}}{2} - \\frac{\\gamma_{\\mu} \\left(n_{b} + 1\\right)}{2}\\end{matrix}\\right]$"
      ],
      "text/plain": [
       "⎡             0                                    0                                       \n",
       "⎢                                                                                          \n",
       "⎢             0                                    0                                       \n",
       "⎢                                                                                          \n",
       "⎢           2⋅aᵣ⋅g                                 0                                       \n",
       "⎢                                                                                          \n",
       "⎢            -Ωₒ                                 -aᵢ⋅g                                     \n",
       "⎢                                                                                          \n",
       "⎢             0                                  -aᵣ⋅g                                     \n",
       "⎢                                                                                          \n",
       "⎢            -δ₃                                   0                                       \n",
       "⎢                                                                                          \n",
       "⎢  γ₁₃   γ₂₃   γ_3d   γₘᵤ⋅n_b                                                              \n",
       "⎢- ─── - ─── - ──── - ───────                    -Ωₘᵤ                                      \n",
       "⎢   2     2     2        2                                                                 \n",
       "⎢                                                                                          \n",
       "⎢                                γ₁₃   γ₂₃   γ_2d   γ_3d   γₘᵤ⋅(n_b + 1)                   \n",
       "⎢            Ωₘᵤ               - ─── - ─── - ──── - ──── - ─────────────                   \n",
       "⎢                                 2     2     2      2           2                         \n",
       "⎢                                                                                          \n",
       "⎢                                                                           γ₁₃   γ₂₃   γ_2\n",
       "⎢             0                                -δ₂ + δ₃                   - ─── - ─── - ───\n",
       "⎣                                                                            2     2     2 \n",
       "\n",
       "   0                    ⎤\n",
       "                        ⎥\n",
       " -2⋅Ωₒ                  ⎥\n",
       "                        ⎥\n",
       " 2⋅Ωₒ                   ⎥\n",
       "                        ⎥\n",
       " -aᵣ⋅g                  ⎥\n",
       "                        ⎥\n",
       " aᵢ⋅g                   ⎥\n",
       "                        ⎥\n",
       "  Ωₘᵤ                   ⎥\n",
       "                        ⎥\n",
       "                        ⎥\n",
       "   0                    ⎥\n",
       "                        ⎥\n",
       "                        ⎥\n",
       "                        ⎥\n",
       "δ₂ - δ₃                 ⎥\n",
       "                        ⎥\n",
       "                        ⎥\n",
       "d   γ_3d   γₘᵤ⋅(n_b + 1)⎥\n",
       "─ - ──── - ─────────────⎥\n",
       "     2           2      ⎦"
      ]
     },
     "execution_count": 19,
     "metadata": {},
     "output_type": "execute_result"
    }
   ],
   "source": [
    "Lreal[:, 6:9]"
   ]
  },
  {
   "cell_type": "markdown",
   "metadata": {
    "ExecuteTime": {
     "end_time": "2019-03-07T01:13:26.127270Z",
     "start_time": "2019-03-07T01:13:26.114593Z"
    }
   },
   "source": [
    "## C-code from our analytic expressions\n",
    "\n",
    "The output of this is copied an pasted into some of the functions that follow. Because it is destined for cython it's in row-major order"
   ]
  },
  {
   "cell_type": "code",
   "execution_count": 20,
   "metadata": {
    "ExecuteTime": {
     "end_time": "2019-05-22T06:21:21.675041Z",
     "start_time": "2019-05-22T06:21:21.670303Z"
    }
   },
   "outputs": [
    {
     "name": "stdout",
     "output_type": "stream",
     "text": [
      "L[0] = 1\n",
      "L[1] = gamma_mu*n_b\n",
      "L[2] = 0\n",
      "L[3] = 0\n",
      "L[4] = Omega_mu\n",
      "L[5] = a_i*g\n",
      "L[6] = a_r*g\n",
      "L[7] = 0\n",
      "L[8] = 0\n",
      "L[9] = 1\n",
      "...\n"
     ]
    }
   ],
   "source": [
    "output = 'truncated'    # truncate output\n",
    "# output = 'full'       # uncomment this line for full output\n",
    "\n",
    "Lflatreal = 1*Lreal.T\n",
    "Lflatreal = Lflatreal[:]\n",
    "\n",
    "for k in range(81):\n",
    "    if k < 10 or output == 'full':\n",
    "        print(\"L[%d] = \" % (k,), end=\"\")\n",
    "        print_ccode(Lflatreal[k])\n",
    "\n",
    "if output == 'truncated':\n",
    "    print('...')"
   ]
  },
  {
   "cell_type": "markdown",
   "metadata": {},
   "source": [
    "# Numerical code for calulating steady state density matrix"
   ]
  },
  {
   "cell_type": "markdown",
   "metadata": {
    "ExecuteTime": {
     "end_time": "2019-03-07T01:20:20.909022Z",
     "start_time": "2019-03-07T01:20:20.905373Z"
    }
   },
   "source": [
    "## Python versions\n",
    "\n",
    "This code uses the analytic expressions above to generate the modified Liovillian and then numerically solves the corrseponding system of equations to find the steady state density. This code is much slower than the cython versions below, but useful for confirming the correctness of the cython versions.\n",
    "\n"
   ]
  },
  {
   "cell_type": "code",
   "execution_count": 21,
   "metadata": {
    "ExecuteTime": {
     "end_time": "2019-05-22T06:21:21.698400Z",
     "start_time": "2019-05-22T06:21:21.676286Z"
    }
   },
   "outputs": [],
   "source": [
    "Lfunc = sym.lambdify((a, delta2, delta3, gamma13,\n",
    "                      gamma23, gamma2d, gamma3d,\n",
    "                      nbath, gammamu, omegao, omegam, g), L)\n",
    "\n",
    "Lrealfunc = sym.lambdify((ar, ai, delta2, delta3,\n",
    "                          gamma13, gamma23, gamma2d,\n",
    "                          gamma3d, nbath, gammamu,\n",
    "                          omegao, omegam, g), Lreal)\n",
    "\n",
    "# This function finds the steady state density matrix\n",
    "# the input p is a python dictionary full of parameters.\n",
    "\n",
    "\n",
    "def steady_rho_python(p):\n",
    "    Lmatrix = Lfunc(p['a'], p['delta2'], p['delta3'],\n",
    "                    p['gamma13'], p['gamma23'], p['gamma2d'], \n",
    "                    p['gamma3d'], p['nbath'], p['gammamu'],\n",
    "                    p['omegao'], p['omegam'], p['g'])\n",
    "    rho = np.linalg.solve(Lmatrix.astype('complex128'),\n",
    "                          np.matrix([[1, 0, 0, 0, 0, 0, 0, 0, 0]]).T)\n",
    "    return np.reshape(rho, (3, 3), order='F')"
   ]
  },
  {
   "cell_type": "markdown",
   "metadata": {},
   "source": [
    "## Cython versions\n",
    "\n",
    "Implemented in cython to (greatly) increase speed."
   ]
  },
  {
   "cell_type": "code",
   "execution_count": 23,
   "metadata": {
    "ExecuteTime": {
     "end_time": "2019-05-22T06:21:25.511415Z",
     "start_time": "2019-05-22T06:21:21.699600Z"
    }
   },
   "outputs": [
    {
     "name": "stdout",
     "output_type": "stream",
     "text": [
      "[1/1] Cythonizing /Users/lonje61p/.cache/ipython/cython/_cython_magic_ae2168119c06f34bf5deac865365692c16ee8fb9.pyx\n"
     ]
    },
    {
     "name": "stderr",
     "output_type": "stream",
     "text": [
      "performance hint: /Users/lonje61p/.cache/ipython/cython/_cython_magic_ae2168119c06f34bf5deac865365692c16ee8fb9.pyx:15:5: Exception check on 'steady_rho13_lots_of_args' will always require the GIL to be acquired. Declare the function as 'noexcept' if you control the definition and you're sure you don't want the function to raise exceptions.\n"
     ]
    },
    {
     "name": "stdout",
     "output_type": "stream",
     "text": [
      "building '_cython_magic_ae2168119c06f34bf5deac865365692c16ee8fb9' extension\n",
      "clang -Wsign-compare -Wunreachable-code -fno-common -dynamic -DNDEBUG -g -fwrapv -O3 -Wall -arch arm64 -arch x86_64 -g -I/Library/Frameworks/Python.framework/Versions/3.11/lib/python3.11/site-packages/numpy/core/include -I/Library/Frameworks/Python.framework/Versions/3.11/lib/python3.11/site-packages/numpy/core/include -I/Library/Frameworks/Python.framework/Versions/3.11/include/python3.11 -c /Users/lonje61p/.cache/ipython/cython/_cython_magic_ae2168119c06f34bf5deac865365692c16ee8fb9.c -o /Users/lonje61p/.cache/ipython/cython/Users/lonje61p/.cache/ipython/cython/_cython_magic_ae2168119c06f34bf5deac865365692c16ee8fb9.o -fopenmp\n"
     ]
    },
    {
     "name": "stderr",
     "output_type": "stream",
     "text": [
      "performance hint: /Users/lonje61p/.cache/ipython/cython/_cython_magic_ae2168119c06f34bf5deac865365692c16ee8fb9.pyx:193:54: Exception check will always require the GIL to be acquired. Declare the function as 'noexcept' if you control the definition and you're sure you don't want the function to raise exceptions.\n",
      "performance hint: /Users/lonje61p/.cache/ipython/cython/_cython_magic_ae2168119c06f34bf5deac865365692c16ee8fb9.pyx:364:41: Exception check will always require the GIL to be acquired. Declare the function as 'noexcept' if you control the definition and you're sure you don't want the function to raise exceptions.\n",
      "Content of stderr:\n",
      "clang: error: unsupported option '-fopenmp'\n",
      "clang: error: unsupported option '-fopenmp'"
     ]
    }
   ],
   "source": [
    "%%cython --compile-args=-fopenmp --link-args=-fopenmp --verbose --force\n",
    "# %%cython -a # this gives \"highligted\" output\n",
    "# cython: boundscheck=False, wraparound=False, nonecheck=False\n",
    "\n",
    "cimport cython\n",
    "import numpy as np\n",
    "from cython.parallel cimport prange\n",
    "cimport scipy.linalg.cython_lapack as lapack\n",
    "import numpy as np\n",
    "from libc.math cimport exp\n",
    "\n",
    "\n",
    "# This function accepts a python dictionary of parameters (p) and returns\n",
    "# the steady state value of the the rho_13 density matrix element.\n",
    "\n",
    "cdef double complex steady_rho13_lots_of_args(double a_r,\n",
    "                                              double a_i,\n",
    "                                              double delta_2,\n",
    "                                              double delta_3,\n",
    "                                              double gamma_13,\n",
    "                                              double gamma_23,\n",
    "                                              double gamma_2d,\n",
    "                                              double gamma_3d,\n",
    "                                              double n_b,\n",
    "                                              double gamma_mu,\n",
    "                                              double Omega_o,\n",
    "                                              double Omega_mu,\n",
    "                                              double g) nogil:\n",
    "    cdef double L[81]\n",
    "    cdef double V[9]\n",
    "    cdef int n = 9\n",
    "    cdef double complex a\n",
    "    cdef int info\n",
    "    cdef int lda = 9\n",
    "    cdef int ldb = 9\n",
    "    cdef int nrhs = 1\n",
    "    cdef int workspace[9]\n",
    "    cdef int k\n",
    "\n",
    "    # Unfortunately we cant use this syntax if we dont have the GIL\n",
    "    #V[:] = [1,0,0, 0,0,0, 0,0,0]\n",
    "    #L[:] = (1, gamma_mu*n_b, 0, 0, ...\n",
    "\n",
    "    for k in range(9):\n",
    "        V[k] = 0\n",
    "    V[0] = 1\n",
    "\n",
    "    L[0] = 1\n",
    "    L[1] = gamma_mu*n_b\n",
    "    L[2] = 0\n",
    "    L[3] = 0\n",
    "    L[4] = Omega_mu\n",
    "    L[5] = a_i*g\n",
    "    L[6] = a_r*g\n",
    "    L[7] = 0\n",
    "    L[8] = 0\n",
    "    L[9] = 1\n",
    "    L[10] = -gamma_mu*(n_b + 1)\n",
    "    L[11] = 0\n",
    "    L[12] = 0\n",
    "    L[13] = -Omega_mu\n",
    "    L[14] = 0\n",
    "    L[15] = 0\n",
    "    L[16] = 0\n",
    "    L[17] = Omega_o\n",
    "    L[18] = 1\n",
    "    L[19] = gamma_23\n",
    "    L[20] = -gamma_13 - gamma_23\n",
    "    L[21] = 0\n",
    "    L[22] = 0\n",
    "    L[23] = -a_i*g\n",
    "    L[24] = -a_r*g\n",
    "    L[25] = 0\n",
    "    L[26] = -Omega_o\n",
    "    L[27] = 0\n",
    "    L[28] = 0\n",
    "    L[29] = 0\n",
    "    L[30] = -1.0/2.0*gamma_2d - gamma_mu*n_b - 1.0/2.0*gamma_mu\n",
    "    L[31] = delta_2\n",
    "    L[32] = 0\n",
    "    L[33] = Omega_o\n",
    "    L[34] = a_i*g\n",
    "    L[35] = a_r*g\n",
    "    L[36] = 0\n",
    "    L[37] = 2*Omega_mu\n",
    "    L[38] = 0\n",
    "    L[39] = -delta_2\n",
    "    L[40] = -1.0/2.0*gamma_2d - gamma_mu*n_b - 1.0/2.0*gamma_mu\n",
    "    L[41] = -Omega_o\n",
    "    L[42] = 0\n",
    "    L[43] = a_r*g\n",
    "    L[44] = -a_i*g\n",
    "    L[45] = 0\n",
    "    L[46] = 0\n",
    "    L[47] = 2*a_i*g\n",
    "    L[48] = 0\n",
    "    L[49] = Omega_o\n",
    "    L[50] = -1.0/2.0*gamma_13 - 1.0/2.0*gamma_23 - \\\n",
    "        1.0/2.0*gamma_3d - 1.0/2.0*gamma_mu*n_b\n",
    "    L[51] = delta_3\n",
    "    L[52] = 0\n",
    "    L[53] = -Omega_mu\n",
    "    L[54] = 0\n",
    "    L[55] = 0\n",
    "    L[56] = 2*a_r*g\n",
    "    L[57] = -Omega_o\n",
    "    L[58] = 0\n",
    "    L[59] = -delta_3\n",
    "    L[60] = -1.0/2.0*gamma_13 - 1.0/2.0*gamma_23 - \\\n",
    "        1.0/2.0*gamma_3d - 1.0/2.0*gamma_mu*n_b\n",
    "    L[61] = Omega_mu\n",
    "    L[62] = 0\n",
    "    L[63] = 0\n",
    "    L[64] = 0\n",
    "    L[65] = 0\n",
    "    L[66] = -a_i*g\n",
    "    L[67] = -a_r*g\n",
    "    L[68] = 0\n",
    "    L[69] = -Omega_mu\n",
    "    L[70] = -1.0/2.0*gamma_13 - 1.0/2.0*gamma_23 - 1.0/2.0 * \\\n",
    "        gamma_2d - 1.0/2.0*gamma_3d - 1.0/2.0*gamma_mu*(n_b + 1)\n",
    "    L[71] = -delta_2 + delta_3\n",
    "    L[72] = 0\n",
    "    L[73] = -2*Omega_o\n",
    "    L[74] = 2*Omega_o\n",
    "    L[75] = -a_r*g\n",
    "    L[76] = a_i*g\n",
    "    L[77] = Omega_mu\n",
    "    L[78] = 0\n",
    "    L[79] = delta_2 - delta_3\n",
    "    L[80] = -1.0/2.0*gamma_13 - 1.0/2.0*gamma_23 - 1.0/2.0 * \\\n",
    "        gamma_2d - 1.0/2.0*gamma_3d - 1.0/2.0*gamma_mu*(n_b + 1)\n",
    "    lapack.dgesv( & n, & nrhs, L, & lda, workspace, V, & ldb, & info)\n",
    "    return V[5]+1j*V[6]\n",
    "\n",
    "\n",
    "# Steady state an ensemble of atoms, returns a matrix of rho13 values as \n",
    "# well as the list of weights from the inhomogeneous broadening distribution.\n",
    "# Convolve the two to get simulate single pass Raman heterodyne signal \n",
    "# as a function of frequency for the optically thin case.\n",
    "\n",
    "def ensemble_steady_rho13(p, delta2vals, delta3vals):\n",
    "    cdef double a_r, a_i, delta_2, delta_3, gamma_13,\n",
    "    cdef double gamma_23, gamma_2d, gamma_3d, n_b,\n",
    "    cdef double gamma_mu, Omega_o, Omega_mu, g\n",
    "    a = p['a']\n",
    "    a_r = a.real\n",
    "    a_i = a.imag\n",
    "    delta_2 = p['delta2']\n",
    "    delta_3 = p['delta3']\n",
    "    gamma_13 = p['gamma13']\n",
    "    gamma_23 = p['gamma23']\n",
    "    gamma_2d = p['gamma2d']\n",
    "    gamma_3d = p['gamma3d']\n",
    "    n_b = p['nbath']\n",
    "    gamma_mu = p['gammamu']\n",
    "    Omega_o = p['omegao']\n",
    "    Omega_mu = p['omegam']\n",
    "    g = p['g']\n",
    "\n",
    "    cdef int ii\n",
    "    cdef int jj\n",
    "\n",
    "    cdef double m2 = p['mean_delta2']\n",
    "    cdef double sd2 = p['sd_delta2']\n",
    "    cdef double m3 = p['mean_delta3']\n",
    "    cdef double sd3 = p['sd_delta3']\n",
    "    # print(sd3)\n",
    "\n",
    "    cdef double[:] delta2valsv = delta2vals\n",
    "    cdef double[:] delta3valsv = delta3vals\n",
    "\n",
    "    cdef int ndelta2 = len(delta2vals)\n",
    "    cdef int ndelta3 = len(delta3vals)\n",
    "\n",
    "    cdef double df2 = delta2valsv[1]-delta2valsv[0]\n",
    "    cdef double df3 = delta3valsv[1]-delta3valsv[0]\n",
    "\n",
    "    # make numpy array\n",
    "    coh13 = np.zeros((ndelta2, ndelta3), dtype='complex128')\n",
    "    # make cython  \"view\" of the data\n",
    "    cdef double complex[:, :] coh13v = coh13 \n",
    "\n",
    "    # make numpy array for gaussian weights\n",
    "    w = np.zeros((ndelta2, ndelta3), dtype='complex128')\n",
    "    # make cython  \"view\" of the data\n",
    "    cdef double complex[:, :] wv = w \n",
    "\n",
    "    for ii in prange(ndelta2, nogil=True):\n",
    "        # for ii in range(ndelta2):\n",
    "        delta_2 = delta2valsv[ii]\n",
    "        for jj in range(ndelta3):\n",
    "            delta_3 = delta3valsv[jj]\n",
    "            coh13v[ii, jj] = steady_rho13_lots_of_args(a_r,\n",
    "                                                       a_i,\n",
    "                                                       delta_2,\n",
    "                                                       delta_3,\n",
    "                                                       gamma_13,\n",
    "                                                       gamma_23,\n",
    "                                                       gamma_2d,\n",
    "                                                       gamma_3d,\n",
    "                                                       n_b,\n",
    "                                                       gamma_mu,\n",
    "                                                       Omega_o,\n",
    "                                                       Omega_mu,\n",
    "                                                       g)\n",
    "            wv[ii, jj] = 1.0/(2*3.14159265358979323846*sd3*sd2) * \\\n",
    "                exp(-(delta_2-m2)**2/(2*sd2*sd2)-(delta_3-m3)**2/(2*sd3*sd3))\n",
    "    return (coh13, w)\n",
    "\n",
    "\n",
    "# Steady state of an ensemble of atoms, returns a matrix of rho values as well \n",
    "# as the list of weights from the inhomogeneous broadening distribution.\n",
    "# Convolve the two to simulate single pass raman heterodyne signal\n",
    "# as a function of frequency\n",
    "\n",
    "# p is a dictionary of parameters\n",
    "# delta2vals and delta3vals are lists of numbers to use for the detunings\n",
    "\n",
    "def ensemble_steady_rho(p, delta2vals, delta3vals):\n",
    "    cdef double a_r, a_i, delta_2, delta_3, gamma_13, gamma_23,\n",
    "    cdef double gamma_2d, gamma_3d, n_b, gamma_mu, Omega_o, Omega_mu, g\n",
    "    a = p['a']\n",
    "    a_r = a.real\n",
    "    a_i = a.imag\n",
    "    delta_2 = p['delta2']\n",
    "    delta_3 = p['delta3']\n",
    "    gamma_13 = p['gamma13']\n",
    "    gamma_23 = p['gamma23']\n",
    "    gamma_2d = p['gamma2d']\n",
    "    gamma_3d = p['gamma3d']\n",
    "    n_b = p['nbath']\n",
    "    gamma_mu = p['gammamu']\n",
    "    Omega_o = p['omegao']\n",
    "    Omega_mu = p['omegam']\n",
    "    g = p['g']\n",
    "\n",
    "    cdef int ii\n",
    "    cdef int jj\n",
    "    cdef int kk\n",
    "\n",
    "    cdef double m2 = p['mean_delta2']\n",
    "    cdef double sd2 = p['sd_delta2']\n",
    "    cdef double m3 = p['mean_delta3']\n",
    "    cdef double sd3 = p['sd_delta3']\n",
    "    # print(sd3)\n",
    "\n",
    "    cdef double[:] delta2valsv = delta2vals\n",
    "    cdef double[:] delta3valsv = delta3vals\n",
    "\n",
    "    cdef int ndelta2 = len(delta2vals)\n",
    "    cdef int ndelta3 = len(delta3vals)\n",
    "\n",
    "    cdef double df2 = delta2valsv[1]-delta2valsv[0]\n",
    "    cdef double df3 = delta3valsv[1]-delta3valsv[0]\n",
    "\n",
    "    rho = np.zeros((ndelta2, ndelta3, 9),\n",
    "                   dtype='complex128')  # make numpy array\n",
    "    # make cython  \"view\" of the data\n",
    "    cdef double complex[:, :, :] rhov = rho\n",
    "\n",
    "    tmp = np.zeros((9,), dtype='complex128')  # make numpy array\n",
    "    # make cython  \"view\" for temporary array\n",
    "    cdef double complex[:] tmpv = tmp\n",
    "\n",
    "    # make numpy array for gaussian weights\n",
    "    w = np.zeros((ndelta2, ndelta3), dtype='complex128')\n",
    "    # make cython  \"view\" of the data\n",
    "    cdef double complex[:, :] wv = w\n",
    "\n",
    "    for ii in prange(ndelta2, nogil=True):\n",
    "        # for ii in range(ndelta2):\n",
    "        delta_2 = delta2valsv[ii]\n",
    "        for jj in range(ndelta3):\n",
    "            delta_3 = delta3valsv[jj]\n",
    "            for kk in range(9):\n",
    "                rhov[ii, jj, kk] = tmpv[kk]\n",
    "            wv[ii, jj] = 1.0/(2*3.14159265358979323846*sd3*sd2) * \\\n",
    "                exp(-(delta_2-m2)**2/(2*sd2*sd2)-(delta_3-m3)**2/(2*sd3*sd3))\n",
    "    return (rho, w)\n",
    "\n",
    "\n",
    "# Integrate over an ensemble using Simpson's rule to find the\n",
    "# net coherence of the ensemble of atoms\n",
    "\n",
    "# p is a dictionary of parameters\n",
    "# df is the frequency resolution used when \n",
    "# integrating over the inhomogeneous broadenings\n",
    "\n",
    "\n",
    "cpdef ensemble_steady_rho13_integrated(p, double df):\n",
    "    cdef double a_r, a_i, delta_2, delta_3, gamma_13, gamma_23\n",
    "    cdef double gamma_2d, gamma_3d, n_b, gamma_mu, Omega_o, Omega_mu, g\n",
    "    a = p['a']\n",
    "    a_r = a.real\n",
    "    a_i = a.imag\n",
    "    delta_2 = p['delta2']\n",
    "    delta_3 = p['delta3']\n",
    "    gamma_13 = p['gamma13']\n",
    "    gamma_23 = p['gamma23']\n",
    "    gamma_2d = p['gamma2d']\n",
    "    gamma_3d = p['gamma3d']\n",
    "    n_b = p['nbath']\n",
    "    gamma_mu = p['gammamu']\n",
    "    Omega_o = p['omegao']\n",
    "    Omega_mu = p['omegam']\n",
    "    g = p['g']\n",
    "\n",
    "    cdef int ii\n",
    "    cdef int jj\n",
    "\n",
    "    cdef double m2 = p['mean_delta2']\n",
    "    cdef double sd2 = p['sd_delta2']\n",
    "    cdef double m3 = p['mean_delta3']\n",
    "    cdef double sd3 = p['sd_delta3']\n",
    "\n",
    "    cdef int w2, w3\n",
    "\n",
    "    cdef int ndelta2 = 2*int(3*sd2/df)+1\n",
    "    cdef int ndelta3 = 2*int(3*sd3/df)+1\n",
    "    # print(ndelta2,ndelta3)\n",
    "\n",
    "    delta2vals = np.linspace(-3, 3, ndelta2)*sd2+m2\n",
    "    delta3vals = np.linspace(-3, 3, ndelta3)*sd3+m3\n",
    "\n",
    "    cdef double[:] delta2valsv = delta2vals\n",
    "    cdef double[:] delta3valsv = delta3vals\n",
    "\n",
    "    simpsonw2 = np.empty((ndelta2,), dtype='int32')\n",
    "    cdef int[:] simpsonw2v = simpsonw2\n",
    "    simpsonw3 = np.empty((ndelta3,), dtype='int32')\n",
    "    cdef int[:] simpsonw3v = simpsonw3\n",
    "\n",
    "    ii = 0\n",
    "    while(ii < (ndelta2-1)):\n",
    "        simpsonw2v[ii] = 2\n",
    "        ii += 1\n",
    "        simpsonw2v[ii] = 4\n",
    "        ii += 1\n",
    "    simpsonw2v[0] = 1\n",
    "    simpsonw2v[ndelta2-1] = 1\n",
    "\n",
    "    ii = 0\n",
    "    while(ii < (ndelta3-1)):\n",
    "        simpsonw3v[ii] = 2\n",
    "        ii += 1\n",
    "        simpsonw3v[ii] = 4\n",
    "        ii += 1\n",
    "    simpsonw3v[0] = 1\n",
    "    simpsonw3v[ndelta3-1] = 1\n",
    "\n",
    "    cdef double complex z = 0\n",
    "    cdef double sum_r = 0\n",
    "    cdef double sum_i = 0\n",
    "    cdef double gaussie\n",
    "    for ii in prange(ndelta2, nogil=True):\n",
    "        # for ii in range(ndelta2):\n",
    "        delta_2 = delta2valsv[ii]\n",
    "        w2 = simpsonw2v[ii]\n",
    "        for jj in range(ndelta3):\n",
    "            delta_3 = delta3valsv[jj]\n",
    "            w3 = simpsonw3v[jj]\n",
    "            gaussie = 1.0/(2*3.14159265358979323846*sd3*sd2) * \\\n",
    "                exp(-(delta_2-m2)**2/(2*sd2*sd2)-(delta_3-m3)**2/(2*sd3*sd3))\n",
    "            z = steady_rho13_lots_of_args(a_r,\n",
    "                                          a_i,\n",
    "                                          delta_2,\n",
    "                                          delta_3,\n",
    "                                          gamma_13,\n",
    "                                          gamma_23,\n",
    "                                          gamma_2d,\n",
    "                                          gamma_3d,\n",
    "                                          n_b,\n",
    "                                          gamma_mu,\n",
    "                                          Omega_o,\n",
    "                                          Omega_mu,\n",
    "                                          g)*gaussie*w2*w3\n",
    "            # this is because cython doesn't know how to\n",
    "            # automatically do reductions for\n",
    "            # but does for doubles\n",
    "            sum_r += z.real\n",
    "            sum_i += z.imag\n",
    "    return (sum_r+sum_i*1j)*df*df/9.0"
   ]
  },
  {
   "cell_type": "markdown",
   "metadata": {
    "ExecuteTime": {
     "end_time": "2019-03-07T08:57:17.414527Z",
     "start_time": "2019-03-07T08:57:13.943Z"
    }
   },
   "source": [
    "# Cavity dynamics\n"
   ]
  },
  {
   "cell_type": "markdown",
   "metadata": {
    "ExecuteTime": {
     "end_time": "2019-03-07T09:00:14.742466Z",
     "start_time": "2019-03-07T09:00:14.729475Z"
    }
   },
   "source": [
    "The (classical) equations of motion of the cavity mode amplitude are given by \n",
    "$$\n",
    "\\frac{d}{dt} a = -i \\delta_c a -i\\sum_k g_k \\sigma_{13,k} - \\frac{(\\kappa_i+\\kappa_c)}{2}a - \\sqrt{\\kappa_c} a_{in}.\n",
    "$$\n",
    "Here $\\kappa_i$ is the intrisic loss rate of our cavity and $\\kappa_c$ is the coupling induced loss.\n",
    "\n",
    "Defining \n",
    "$$\n",
    "S_{13}(a)= \\sum_k g_k \\sigma_{13,k} .\n",
    "$$ \n",
    "We write $S_{13}(a)$ to remind us (explicitly) that the atoms states are a functions of the cavity mode amplitude $a$.\n",
    "\n",
    "Because we won't drive $a$ this becomes\n",
    "$$\n",
    "\\frac{d}{dt} a = -i \\delta_c a\n",
    "-i S_{13}(a)\n",
    "- \\frac{(\\kappa_i+\\kappa_c)}{2}a.\n",
    "$$\n",
    "So to find the steady state of the cavity we need to find the roots of the function\n",
    "$$\n",
    "f(a) = -i \\delta_c a\n",
    "-i S_{13}(a)\n",
    "- \\frac{(\\kappa_i+\\kappa_c)}{2}a .\n",
    "$$"
   ]
  },
  {
   "cell_type": "code",
   "execution_count": 24,
   "metadata": {
    "ExecuteTime": {
     "end_time": "2019-05-22T06:21:25.517059Z",
     "start_time": "2019-05-22T06:21:25.512991Z"
    }
   },
   "outputs": [],
   "source": [
    "# The function \"f\" above, parameters via the dictionary p\n",
    "def ffunc(p):\n",
    "    df = p['df']\n",
    "    a = p['a']\n",
    "    N = p['N']\n",
    "    g = p['g']\n",
    "    deltac = p['deltac']\n",
    "    kappa = p['kappaoi']+p['kappaoc']\n",
    "    S13 = N*g*ensemble_steady_rho13_integrated(p, df)\n",
    "    return -1j*deltac*a - 1j*S13 - kappa/2*a\n",
    "\n",
    "# The same function but in a form that maps a 2d vector\n",
    "# to a 2d vector rather than complex -> complex.\n",
    "# This enables us to use scipy root finding routines.\n",
    "\n",
    "\n",
    "def ffunc_for_root(avec, p):\n",
    "    a = avec[0] + 1j*avec[1]\n",
    "    # print(a)\n",
    "    p['a'] = a\n",
    "    f = ffunc(p)\n",
    "    return [f.real, f.imag]\n",
    "\n",
    "# Finds the steady state cavity amplitude for given parameters p\n",
    "\n",
    "\n",
    "def steadya(p):\n",
    "    # use value of a in p as the initial guess\n",
    "    a = p['a']\n",
    "    avec = [a.real, a.imag]\n",
    "    df = p['df']\n",
    "    result = scipy.optimize.root(ffunc_for_root, avec, args=(p))\n",
    "    if not result.success:\n",
    "        print(result)\n",
    "        raise(AssertionError(\n",
    "            'Grrr - The root finder didn\\'t converge: '+result.message))\n",
    "    # update p['a'] why not?\n",
    "    a = result.x[0] + 1j*result.x[1]\n",
    "    p['a'] = a\n",
    "    return a"
   ]
  },
  {
   "cell_type": "markdown",
   "metadata": {
    "ExecuteTime": {
     "end_time": "2019-03-07T09:11:14.916704Z",
     "start_time": "2019-03-07T09:11:14.911305Z"
    }
   },
   "source": [
    "# Modelling the experiment\n",
    "\n",
    "## Somewhere to store the results"
   ]
  },
  {
   "cell_type": "code",
   "execution_count": 25,
   "metadata": {
    "ExecuteTime": {
     "end_time": "2019-05-22T06:21:25.522084Z",
     "start_time": "2019-05-22T06:21:25.518163Z"
    }
   },
   "outputs": [],
   "source": [
    "saved_output = {}"
   ]
  },
  {
   "cell_type": "markdown",
   "metadata": {},
   "source": [
    "## Anciliary functions"
   ]
  },
  {
   "cell_type": "markdown",
   "metadata": {},
   "source": [
    "This calculates microwave Rabi frequency from the power incident in dBm"
   ]
  },
  {
   "cell_type": "code",
   "execution_count": 26,
   "metadata": {
    "ExecuteTime": {
     "end_time": "2019-05-22T06:21:25.525870Z",
     "start_time": "2019-05-22T06:21:25.523105Z"
    }
   },
   "outputs": [],
   "source": [
    "def omegam_from_Pin(Pin, p):\n",
    "    mu0 = 4*pi*1e-7\n",
    "    hbar = 1.05457e-34  # in J*s\n",
    "\n",
    "    # the volume of the Er:YSO sample\n",
    "    Vsample = pi*((p['dsample']/2)**2) * p['Lsample']\n",
    "    V_microwave_cavity = Vsample/p['fillfactor']\n",
    "\n",
    "    mwP = 1e-3 * 10**(Pin/10)  # convert from dBm to Watts\n",
    "    Q = 2*pi*p['freqm'] / (p['kappami'] + p['kappamc']*2)  # Q factor\n",
    "    S21 = (4*p['kappamc']**2) / (p['kappami'] + p['kappamc']*2)**2\n",
    "\n",
    "    # energy inside the microwave cavity, in J\n",
    "    energy_in_cavity = math.sqrt(S21)*2 / (2*pi*p['freqm']/Q)*mwP\n",
    "\n",
    "    # Magnetic field of the microwave\n",
    "    Bmw = math.sqrt(mu0*(energy_in_cavity/V_microwave_cavity)/2)\n",
    "    p['omegam'] = (p['mu12']*Bmw)/hbar*(-1)\n",
    "    return p['omegam']"
   ]
  },
  {
   "cell_type": "markdown",
   "metadata": {},
   "source": [
    "\n"
   ]
  },
  {
   "cell_type": "code",
   "execution_count": 27,
   "metadata": {
    "ExecuteTime": {
     "end_time": "2019-05-22T06:21:25.529534Z",
     "start_time": "2019-05-22T06:21:25.526861Z"
    }
   },
   "outputs": [],
   "source": [
    "# Calculates the Rabi frequency of the optical pump based \n",
    "# on the input power in dBm\n",
    "def omegao_from_Pin(Pin, p):\n",
    "    epsilon0 = 8.854187817e-12\n",
    "    hbar = 1.05457e-34  # in J*s\n",
    "\n",
    "    optP = 1e-3 * 10**(Pin/10)  # incident optical power in W\n",
    "    pflux = optP/(2*pi*p['freqo']*hbar)  # photon flux (photons/sec)\n",
    "    n_in = pflux * p['kappaoc']*4 / \\\n",
    "        (p['kappaoc']+p['kappaoi'])**2  # num intracavity photons\n",
    "    Sspot = pi*p['Wcavity']**2  # cross sectional area of\n",
    "    # optical mode\n",
    "    V_cav = (Sspot*p['Lcavity_vac']+Sspot*p['Lsample']*p['nYSO']**3)/2\n",
    "    optEfield = math.sqrt(n_in*hbar*2*pi*p['freqo']/2/epsilon0/V_cav)\n",
    "    p['omegao'] = p['d23']*optEfield/hbar*(-1)\n",
    "    return p['omegao']"
   ]
  },
  {
   "cell_type": "markdown",
   "metadata": {},
   "source": [
    "## Parameters for the experiment"
   ]
  },
  {
   "cell_type": "code",
   "execution_count": 28,
   "metadata": {
    "ExecuteTime": {
     "end_time": "2019-05-22T06:21:25.535231Z",
     "start_time": "2019-05-22T06:21:25.530582Z"
    }
   },
   "outputs": [],
   "source": [
    "p = {}\n",
    "p['a'] = 0\n",
    "p['delta2'] = 0.\n",
    "p['delta3'] = 0.\n",
    "\n",
    "\n",
    "p['d13'] = 2e-32*math.sqrt(2/3) #in Cm\n",
    "p['d23'] = 2e-32*math.sqrt(1/3) #in Cm\n",
    "\n",
    "# all rates, and frequencies are in s^-1\n",
    "p['gamma13'] = p['d13']**2/(p['d13']**2+p['d23']**2)*1/11e-3\n",
    "p['gamma23'] = p['d23']**2/(p['d13']**2+p['d23']**2)*1/11e-3\n",
    "p['gamma2d'] = 1e6\n",
    "p['gamma3d'] = 1e6\n",
    "p['nbath'] = 20\n",
    "p['gammamu'] = 1/(p['nbath']+1) * 1e3\n",
    "\n",
    "p['g'] = 51.9  # optical coupling (s^-1)\n",
    "p['N'] = 1.28e15  # number of atoms in the optical mode\n",
    "\n",
    "p['deltac'] = 0  # detuning for optical cavity at sideband frequency\n",
    "p['deltacm'] = 0  # detuning for microwave cavity at input microwave frequency\n",
    "\n",
    "p['kappaoc'] = 2*pi*7.95e6  # intrinsic loss for optical resonator \n",
    "p['kappaoi'] = 2*pi*1.7e6  # coupling loss for optical resonator\n",
    "p['df'] = 0.1e6  # how small discretization step to take when integrating over the\n",
    "# inhomogeneous lines\n",
    "\n",
    "p['mean_delta2'] = 0\n",
    "p['sd_delta2'] = 2*pi*25e6  # microwave inhomogeneous broadening\n",
    "# 2.355is to turn FWHM into standard deviation\n",
    "p['mean_delta3'] = 0\n",
    "p['sd_delta3'] = 2*pi*170e6  # optical inhomogeneous broadening\n",
    "\n",
    "p['kappami'] = 650e3*2*pi  # intrinsic loss for microwave cavity\n",
    "p['kappamc'] = 70e3*2*pi  # coupling loss for optical cavity\n",
    "# this is for one of the two output ports\n",
    "p['Nmu'] = 2.22e16  # total number of atoms\n",
    "p['gmu'] = 1.04  # coupling between atoms and microwave field\n",
    "\n",
    "\n",
    "muBohr = 927.4009994e-26  # Bohr magneton in J T^-1.\n",
    "# transition dipole moment for microwave cavity (J T^-1).\n",
    "p['mu12'] = 4.3803*muBohr\n",
    "\n",
    "p['Lsample'] = 12e-3  # the length of the sample, in m\n",
    "p['dsample'] = 5e-3  # the diameter of the sample, in m\n",
    "\n",
    "p['fillfactor'] = 0.8  # microwave filling factor\n",
    "p['freqm'] = 5.186e9  # microwave frequency, in Hz\n",
    "p['freqo'] = 195113.36e9  # optical frequency, in Hz\n",
    "\n",
    "p['Lcavity_vac'] = 49.5e-3  # length of the vacuum part of the optical\n",
    "# Fabry Perot (m)\n",
    "p['Wcavity'] = 0.6e-3  # width of optical resonator beam in sample (m)\n",
    "p['nYSO'] = 1.76  # refractive index of YSO\n",
    "\n",
    "# assume 11mW (=10.4135dBm) input to optical and 0 dBm to microwave cavity\n",
    "omegao_from_Pin(10.4135, p)\n",
    "omegam_from_Pin(0, p)\n",
    "\n",
    "saved_output['p'] = p"
   ]
  },
  {
   "cell_type": "markdown",
   "metadata": {},
   "source": [
    "## Rescaling\n",
    "\n",
    "In order that the root finder doesn't get confused by very large or very small values we make the substitution\n",
    "\n",
    "$$ g \\leftarrow \\alpha g $$\n",
    "\n",
    "$$ N \\leftarrow \\frac{N}{\\alpha^2} $$\n",
    "\n",
    "This means that in order to get the true intracavity field $a$ we need to multiply the results of our calculations by $\\alpha$.\n",
    "\n",
    "Trial and error suggests that using $\\alpha = \\sqrt{N}/40$ (the original $N$) is a good choice.\n",
    "\n"
   ]
  },
  {
   "cell_type": "code",
   "execution_count": 29,
   "metadata": {
    "ExecuteTime": {
     "end_time": "2019-05-22T06:21:25.539618Z",
     "start_time": "2019-05-22T06:21:25.536506Z"
    }
   },
   "outputs": [
    {
     "data": {
      "text/plain": [
       "(1.8568308485158254, ' GHz')"
      ]
     },
     "execution_count": 29,
     "metadata": {},
     "output_type": "execute_result"
    }
   ],
   "source": [
    "alpha = math.sqrt(p['N'])/40\n",
    "p['g'] = alpha * p['g']\n",
    "p['N'] = p['N']/alpha**2\n",
    "\n",
    "# this parameter shouldn't change\n",
    "math.sqrt(p['N'])*p['g']/1e9, \" GHz\""
   ]
  },
  {
   "cell_type": "markdown",
   "metadata": {},
   "source": [
    "## Efficiency of upconversion vs microwave input power"
   ]
  },
  {
   "cell_type": "code",
   "execution_count": 30,
   "metadata": {
    "ExecuteTime": {
     "end_time": "2019-05-22T08:02:20.975666Z",
     "start_time": "2019-05-22T06:21:25.540900Z"
    }
   },
   "outputs": [
    {
     "name": "stdout",
     "output_type": "stream",
     "text": [
      "1/7"
     ]
    },
    {
     "ename": "NameError",
     "evalue": "name 'ensemble_steady_rho13_integrated' is not defined",
     "output_type": "error",
     "traceback": [
      "\u001b[0;31m---------------------------------------------------------------------------\u001b[0m",
      "\u001b[0;31mNameError\u001b[0m                                 Traceback (most recent call last)",
      "Cell \u001b[0;32mIn[30], line 40\u001b[0m\n\u001b[1;32m     38\u001b[0m omegam_from_Pin(P, p)\n\u001b[1;32m     39\u001b[0m p[\u001b[38;5;124m'\u001b[39m\u001b[38;5;124mdf\u001b[39m\u001b[38;5;124m'\u001b[39m] \u001b[38;5;241m=\u001b[39m dfcoarse\n\u001b[0;32m---> 40\u001b[0m avals_approx[i] \u001b[38;5;241m=\u001b[39m \u001b[43msteadya\u001b[49m\u001b[43m(\u001b[49m\u001b[43mp\u001b[49m\u001b[43m)\u001b[49m\u001b[38;5;241m*\u001b[39malpha\n\u001b[1;32m     41\u001b[0m p[\u001b[38;5;124m'\u001b[39m\u001b[38;5;124mdf\u001b[39m\u001b[38;5;124m'\u001b[39m] \u001b[38;5;241m=\u001b[39m dffine\n\u001b[1;32m     42\u001b[0m avals[i] \u001b[38;5;241m=\u001b[39m steadya(p)\u001b[38;5;241m*\u001b[39malpha\n",
      "Cell \u001b[0;32mIn[24], line 32\u001b[0m, in \u001b[0;36msteadya\u001b[0;34m(p)\u001b[0m\n\u001b[1;32m     30\u001b[0m avec \u001b[38;5;241m=\u001b[39m [a\u001b[38;5;241m.\u001b[39mreal, a\u001b[38;5;241m.\u001b[39mimag]\n\u001b[1;32m     31\u001b[0m df \u001b[38;5;241m=\u001b[39m p[\u001b[38;5;124m'\u001b[39m\u001b[38;5;124mdf\u001b[39m\u001b[38;5;124m'\u001b[39m]\n\u001b[0;32m---> 32\u001b[0m result \u001b[38;5;241m=\u001b[39m \u001b[43mscipy\u001b[49m\u001b[38;5;241;43m.\u001b[39;49m\u001b[43moptimize\u001b[49m\u001b[38;5;241;43m.\u001b[39;49m\u001b[43mroot\u001b[49m\u001b[43m(\u001b[49m\u001b[43mffunc_for_root\u001b[49m\u001b[43m,\u001b[49m\u001b[43m \u001b[49m\u001b[43mavec\u001b[49m\u001b[43m,\u001b[49m\u001b[43m \u001b[49m\u001b[43margs\u001b[49m\u001b[38;5;241;43m=\u001b[39;49m\u001b[43m(\u001b[49m\u001b[43mp\u001b[49m\u001b[43m)\u001b[49m\u001b[43m)\u001b[49m\n\u001b[1;32m     33\u001b[0m \u001b[38;5;28;01mif\u001b[39;00m \u001b[38;5;129;01mnot\u001b[39;00m result\u001b[38;5;241m.\u001b[39msuccess:\n\u001b[1;32m     34\u001b[0m     \u001b[38;5;28mprint\u001b[39m(result)\n",
      "File \u001b[0;32m/Library/Frameworks/Python.framework/Versions/3.11/lib/python3.11/site-packages/scipy/optimize/_root.py:236\u001b[0m, in \u001b[0;36mroot\u001b[0;34m(fun, x0, args, method, jac, tol, callback, options)\u001b[0m\n\u001b[1;32m    233\u001b[0m         options\u001b[38;5;241m.\u001b[39msetdefault(\u001b[38;5;124m'\u001b[39m\u001b[38;5;124mfatol\u001b[39m\u001b[38;5;124m'\u001b[39m, np\u001b[38;5;241m.\u001b[39minf)\n\u001b[1;32m    235\u001b[0m \u001b[38;5;28;01mif\u001b[39;00m meth \u001b[38;5;241m==\u001b[39m \u001b[38;5;124m'\u001b[39m\u001b[38;5;124mhybr\u001b[39m\u001b[38;5;124m'\u001b[39m:\n\u001b[0;32m--> 236\u001b[0m     sol \u001b[38;5;241m=\u001b[39m \u001b[43m_root_hybr\u001b[49m\u001b[43m(\u001b[49m\u001b[43mfun\u001b[49m\u001b[43m,\u001b[49m\u001b[43m \u001b[49m\u001b[43mx0\u001b[49m\u001b[43m,\u001b[49m\u001b[43m \u001b[49m\u001b[43margs\u001b[49m\u001b[38;5;241;43m=\u001b[39;49m\u001b[43margs\u001b[49m\u001b[43m,\u001b[49m\u001b[43m \u001b[49m\u001b[43mjac\u001b[49m\u001b[38;5;241;43m=\u001b[39;49m\u001b[43mjac\u001b[49m\u001b[43m,\u001b[49m\u001b[43m \u001b[49m\u001b[38;5;241;43m*\u001b[39;49m\u001b[38;5;241;43m*\u001b[39;49m\u001b[43moptions\u001b[49m\u001b[43m)\u001b[49m\n\u001b[1;32m    237\u001b[0m \u001b[38;5;28;01melif\u001b[39;00m meth \u001b[38;5;241m==\u001b[39m \u001b[38;5;124m'\u001b[39m\u001b[38;5;124mlm\u001b[39m\u001b[38;5;124m'\u001b[39m:\n\u001b[1;32m    238\u001b[0m     sol \u001b[38;5;241m=\u001b[39m _root_leastsq(fun, x0, args\u001b[38;5;241m=\u001b[39margs, jac\u001b[38;5;241m=\u001b[39mjac, \u001b[38;5;241m*\u001b[39m\u001b[38;5;241m*\u001b[39moptions)\n",
      "File \u001b[0;32m/Library/Frameworks/Python.framework/Versions/3.11/lib/python3.11/site-packages/scipy/optimize/_minpack_py.py:228\u001b[0m, in \u001b[0;36m_root_hybr\u001b[0;34m(func, x0, args, jac, col_deriv, xtol, maxfev, band, eps, factor, diag, **unknown_options)\u001b[0m\n\u001b[1;32m    226\u001b[0m \u001b[38;5;28;01mif\u001b[39;00m \u001b[38;5;129;01mnot\u001b[39;00m \u001b[38;5;28misinstance\u001b[39m(args, \u001b[38;5;28mtuple\u001b[39m):\n\u001b[1;32m    227\u001b[0m     args \u001b[38;5;241m=\u001b[39m (args,)\n\u001b[0;32m--> 228\u001b[0m shape, dtype \u001b[38;5;241m=\u001b[39m \u001b[43m_check_func\u001b[49m\u001b[43m(\u001b[49m\u001b[38;5;124;43m'\u001b[39;49m\u001b[38;5;124;43mfsolve\u001b[39;49m\u001b[38;5;124;43m'\u001b[39;49m\u001b[43m,\u001b[49m\u001b[43m \u001b[49m\u001b[38;5;124;43m'\u001b[39;49m\u001b[38;5;124;43mfunc\u001b[39;49m\u001b[38;5;124;43m'\u001b[39;49m\u001b[43m,\u001b[49m\u001b[43m \u001b[49m\u001b[43mfunc\u001b[49m\u001b[43m,\u001b[49m\u001b[43m \u001b[49m\u001b[43mx0\u001b[49m\u001b[43m,\u001b[49m\u001b[43m \u001b[49m\u001b[43margs\u001b[49m\u001b[43m,\u001b[49m\u001b[43m \u001b[49m\u001b[43mn\u001b[49m\u001b[43m,\u001b[49m\u001b[43m \u001b[49m\u001b[43m(\u001b[49m\u001b[43mn\u001b[49m\u001b[43m,\u001b[49m\u001b[43m)\u001b[49m\u001b[43m)\u001b[49m\n\u001b[1;32m    229\u001b[0m \u001b[38;5;28;01mif\u001b[39;00m epsfcn \u001b[38;5;129;01mis\u001b[39;00m \u001b[38;5;28;01mNone\u001b[39;00m:\n\u001b[1;32m    230\u001b[0m     epsfcn \u001b[38;5;241m=\u001b[39m finfo(dtype)\u001b[38;5;241m.\u001b[39meps\n",
      "File \u001b[0;32m/Library/Frameworks/Python.framework/Versions/3.11/lib/python3.11/site-packages/scipy/optimize/_minpack_py.py:25\u001b[0m, in \u001b[0;36m_check_func\u001b[0;34m(checker, argname, thefunc, x0, args, numinputs, output_shape)\u001b[0m\n\u001b[1;32m     23\u001b[0m \u001b[38;5;28;01mdef\u001b[39;00m \u001b[38;5;21m_check_func\u001b[39m(checker, argname, thefunc, x0, args, numinputs,\n\u001b[1;32m     24\u001b[0m                 output_shape\u001b[38;5;241m=\u001b[39m\u001b[38;5;28;01mNone\u001b[39;00m):\n\u001b[0;32m---> 25\u001b[0m     res \u001b[38;5;241m=\u001b[39m atleast_1d(\u001b[43mthefunc\u001b[49m\u001b[43m(\u001b[49m\u001b[38;5;241;43m*\u001b[39;49m\u001b[43m(\u001b[49m\u001b[43m(\u001b[49m\u001b[43mx0\u001b[49m\u001b[43m[\u001b[49m\u001b[43m:\u001b[49m\u001b[43mnuminputs\u001b[49m\u001b[43m]\u001b[49m\u001b[43m,\u001b[49m\u001b[43m)\u001b[49m\u001b[43m \u001b[49m\u001b[38;5;241;43m+\u001b[39;49m\u001b[43m \u001b[49m\u001b[43margs\u001b[49m\u001b[43m)\u001b[49m\u001b[43m)\u001b[49m)\n\u001b[1;32m     26\u001b[0m     \u001b[38;5;28;01mif\u001b[39;00m (output_shape \u001b[38;5;129;01mis\u001b[39;00m \u001b[38;5;129;01mnot\u001b[39;00m \u001b[38;5;28;01mNone\u001b[39;00m) \u001b[38;5;129;01mand\u001b[39;00m (shape(res) \u001b[38;5;241m!=\u001b[39m output_shape):\n\u001b[1;32m     27\u001b[0m         \u001b[38;5;28;01mif\u001b[39;00m (output_shape[\u001b[38;5;241m0\u001b[39m] \u001b[38;5;241m!=\u001b[39m \u001b[38;5;241m1\u001b[39m):\n",
      "Cell \u001b[0;32mIn[24], line 21\u001b[0m, in \u001b[0;36mffunc_for_root\u001b[0;34m(avec, p)\u001b[0m\n\u001b[1;32m     19\u001b[0m \u001b[38;5;66;03m# print(a)\u001b[39;00m\n\u001b[1;32m     20\u001b[0m p[\u001b[38;5;124m'\u001b[39m\u001b[38;5;124ma\u001b[39m\u001b[38;5;124m'\u001b[39m] \u001b[38;5;241m=\u001b[39m a\n\u001b[0;32m---> 21\u001b[0m f \u001b[38;5;241m=\u001b[39m \u001b[43mffunc\u001b[49m\u001b[43m(\u001b[49m\u001b[43mp\u001b[49m\u001b[43m)\u001b[49m\n\u001b[1;32m     22\u001b[0m \u001b[38;5;28;01mreturn\u001b[39;00m [f\u001b[38;5;241m.\u001b[39mreal, f\u001b[38;5;241m.\u001b[39mimag]\n",
      "Cell \u001b[0;32mIn[24], line 9\u001b[0m, in \u001b[0;36mffunc\u001b[0;34m(p)\u001b[0m\n\u001b[1;32m      7\u001b[0m deltac \u001b[38;5;241m=\u001b[39m p[\u001b[38;5;124m'\u001b[39m\u001b[38;5;124mdeltac\u001b[39m\u001b[38;5;124m'\u001b[39m]\n\u001b[1;32m      8\u001b[0m kappa \u001b[38;5;241m=\u001b[39m p[\u001b[38;5;124m'\u001b[39m\u001b[38;5;124mkappaoi\u001b[39m\u001b[38;5;124m'\u001b[39m]\u001b[38;5;241m+\u001b[39mp[\u001b[38;5;124m'\u001b[39m\u001b[38;5;124mkappaoc\u001b[39m\u001b[38;5;124m'\u001b[39m]\n\u001b[0;32m----> 9\u001b[0m S13 \u001b[38;5;241m=\u001b[39m N\u001b[38;5;241m*\u001b[39mg\u001b[38;5;241m*\u001b[39m\u001b[43mensemble_steady_rho13_integrated\u001b[49m(p, df)\n\u001b[1;32m     10\u001b[0m \u001b[38;5;28;01mreturn\u001b[39;00m \u001b[38;5;241m-\u001b[39m\u001b[38;5;241m1\u001b[39mj\u001b[38;5;241m*\u001b[39mdeltac\u001b[38;5;241m*\u001b[39ma \u001b[38;5;241m-\u001b[39m \u001b[38;5;241m1\u001b[39mj\u001b[38;5;241m*\u001b[39mS13 \u001b[38;5;241m-\u001b[39m kappa\u001b[38;5;241m/\u001b[39m\u001b[38;5;241m2\u001b[39m\u001b[38;5;241m*\u001b[39ma\n",
      "\u001b[0;31mNameError\u001b[0m: name 'ensemble_steady_rho13_integrated' is not defined"
     ]
    }
   ],
   "source": [
    "# Choose the discretization of the x-axis based on\n",
    "# how long we want the calculations to take\n",
    "\n",
    "\n",
    "if patience <= 0:\n",
    "    Pmu_vals_dBm = np.arange(-50, 10, 9)  # in dBm\n",
    "elif patience <= 1:\n",
    "    Pmu_vals_dBm = np.arange(-50, 10, 9)  # in dBm\n",
    "elif patience <= 2:\n",
    "    Pmu_vals_dBm = np.arange(-50, 10, 0.5)  # in dBm\n",
    "\n",
    "saved_output['Pmu_vals_dBm'] = Pmu_vals_dBm\n",
    "\n",
    "\n",
    "Pmu_vals_W = 1e-3*np.exp(np.log(10)*Pmu_vals_dBm/10)  # in W\n",
    "\n",
    "\n",
    "# We do the calulations with two different sampling intervals\n",
    "# for the inhomgeneous distribution to makes sure that the \n",
    "# integration over the inhomogneous line is accurate.\n",
    "\n",
    "if patience == 0:\n",
    "    dffine = 5e6\n",
    "    dfcoarse = 5e6\n",
    "else:\n",
    "    dffine = 0.5e6\n",
    "    dfcoarse = 2e6\n",
    "\n",
    "\n",
    "avals_approx = np.zeros(Pmu_vals_dBm.shape, dtype='complex128')\n",
    "avals = np.zeros(Pmu_vals_dBm.shape, dtype='complex128')\n",
    "\n",
    "truncate_output=True  # Used when exporting to pdf to save pages\n",
    "\n",
    "for (i, P) in enumerate(Pmu_vals_dBm):\n",
    "    if not truncate_output or i<10:\n",
    "        print(\"%d/%d\" % (i+1, len(Pmu_vals_dBm)), end=\"\")\n",
    "    omegam_from_Pin(P, p)\n",
    "    p['df'] = dfcoarse\n",
    "    avals_approx[i] = steadya(p)*alpha\n",
    "    p['df'] = dffine\n",
    "    avals[i] = steadya(p)*alpha\n",
    "    if not truncate_output or i<10:\n",
    "        print(\" -- completed\")\n",
    "\n",
    "if truncate_output:\n",
    "    print(\" ...\")\n",
    "    "
   ]
  },
  {
   "cell_type": "code",
   "execution_count": 19,
   "metadata": {
    "ExecuteTime": {
     "end_time": "2019-05-22T08:02:20.981221Z",
     "start_time": "2019-05-22T08:02:20.977401Z"
    }
   },
   "outputs": [],
   "source": [
    "Pmu_vals_dBm = Pmu_vals_dBm\n",
    "Pmu_vals_W = 1e-3*np.exp(np.log(10)*(Pmu_vals_dBm)/10)  # in W\n",
    "\n",
    "effic = p['kappaoc']*np.abs(avals**2)*const.h*p['freqo'] / Pmu_vals_W\n",
    "effic_approx = p['kappaoc'] * \\\n",
    "    np.abs(avals_approx**2)*const.h*p['freqo'] / Pmu_vals_W\n",
    "\n",
    "# quantum efficiency\n",
    "effic = effic*p['freqm']/p['freqo']\n",
    "effic_approx = effic_approx*p['freqm']/p['freqo']"
   ]
  },
  {
   "cell_type": "markdown",
   "metadata": {
    "ExecuteTime": {
     "end_time": "2019-03-07T10:03:20.438084Z",
     "start_time": "2019-03-07T10:03:20.349098Z"
    }
   },
   "source": [
    "### This plot shows the difference between fine and coarser grids\n",
    "When integrating over the inhomogeneous line"
   ]
  },
  {
   "cell_type": "code",
   "execution_count": 20,
   "metadata": {
    "ExecuteTime": {
     "end_time": "2019-05-22T08:02:21.098660Z",
     "start_time": "2019-05-22T08:02:20.985387Z"
    }
   },
   "outputs": [
    {
     "data": {
      "text/plain": [
       "Text(0.5, 0, 'MW power input (dBm)')"
      ]
     },
     "execution_count": 20,
     "metadata": {},
     "output_type": "execute_result"
    },
    {
     "data": {
      "image/png": "[encoded data removed]",
      "text/plain": [
       "<Figure size 640x480 with 1 Axes>"
      ]
     },
     "metadata": {},
     "output_type": "display_data"
    }
   ],
   "source": [
    "plt.plot(Pmu_vals_dBm, effic*1e6, 'x-',\n",
    "         Pmu_vals_dBm, effic_approx*1e6, 'o-')\n",
    "plt.ylabel('efficiency (ppm)')\n",
    "plt.xlabel('MW power input (dBm)')"
   ]
  },
  {
   "cell_type": "markdown",
   "metadata": {
    "ExecuteTime": {
     "end_time": "2019-03-07T10:11:13.968007Z",
     "start_time": "2019-03-07T10:11:13.962462Z"
    }
   },
   "source": [
    "### Upconversion efficiency versus microwave power (for paper)"
   ]
  },
  {
   "cell_type": "code",
   "execution_count": 21,
   "metadata": {
    "ExecuteTime": {
     "end_time": "2019-05-22T08:02:21.176889Z",
     "start_time": "2019-05-22T08:02:21.100041Z"
    }
   },
   "outputs": [
    {
     "data": {
      "image/png": "[encoded data removed]",
      "text/plain": [
       "<Figure size 640x480 with 1 Axes>"
      ]
     },
     "metadata": {},
     "output_type": "display_data"
    }
   ],
   "source": [
    "plt.plot(Pmu_vals_dBm, effic*1e6, '-')\n",
    "plt.ylabel('efficiency (ppm)')\n",
    "plt.xlabel('MW power input (dBm)')\n",
    "saved_output['effic'] = effic"
   ]
  },
  {
   "cell_type": "markdown",
   "metadata": {
    "ExecuteTime": {
     "end_time": "2019-03-07T23:43:13.031983Z",
     "start_time": "2019-03-07T23:43:13.026075Z"
    }
   },
   "source": [
    "### Absorption at the frequency of the upconverted signal as a functionof microwave power (for paper)"
   ]
  },
  {
   "cell_type": "code",
   "execution_count": 22,
   "metadata": {
    "ExecuteTime": {
     "end_time": "2019-05-22T08:02:29.225837Z",
     "start_time": "2019-05-22T08:02:21.178511Z"
    }
   },
   "outputs": [
    {
     "ename": "NameError",
     "evalue": "name 'steady_rho_python' is not defined",
     "output_type": "error",
     "traceback": [
      "\u001b[0;31m---------------------------------------------------------------------------\u001b[0m",
      "\u001b[0;31mNameError\u001b[0m                                 Traceback (most recent call last)",
      "Cell \u001b[0;32mIn[22], line 22\u001b[0m\n\u001b[1;32m     20\u001b[0m \u001b[38;5;28;01mfor\u001b[39;00m jj \u001b[38;5;129;01min\u001b[39;00m \u001b[38;5;28mrange\u001b[39m(\u001b[38;5;28mlen\u001b[39m(delta2vals)):\n\u001b[1;32m     21\u001b[0m     p[\u001b[38;5;124m'\u001b[39m\u001b[38;5;124mdelta2\u001b[39m\u001b[38;5;124m'\u001b[39m] \u001b[38;5;241m=\u001b[39m delta2vals[jj]\n\u001b[0;32m---> 22\u001b[0m     rho \u001b[38;5;241m=\u001b[39m \u001b[43msteady_rho_python\u001b[49m(p)\n\u001b[1;32m     23\u001b[0m     pop[jj] \u001b[38;5;241m=\u001b[39m rho[\u001b[38;5;241m0\u001b[39m, \u001b[38;5;241m0\u001b[39m]\u001b[38;5;241m.\u001b[39mreal\u001b[38;5;241m-\u001b[39mrho[\u001b[38;5;241m2\u001b[39m, \u001b[38;5;241m2\u001b[39m]\u001b[38;5;241m.\u001b[39mreal\n\u001b[1;32m     24\u001b[0m     \u001b[38;5;66;03m#print('%d %g %g'%(jj,delta2vals[jj],pop[jj]))\u001b[39;00m\n",
      "\u001b[0;31mNameError\u001b[0m: name 'steady_rho_python' is not defined"
     ]
    }
   ],
   "source": [
    "# fix the delta_3 = 0 (on resonance with the signal frequency)\n",
    "# but integrate over the inhomogeneous broadening of the microwave transition\n",
    "\n",
    "df = 1e+6\n",
    "\n",
    "m2 = p['mean_delta2']\n",
    "sd2 = p['sd_delta2']\n",
    "\n",
    "ndelta2 = 2*int(3*sd2/df)+1\n",
    "delta2vals = np.linspace(-3, 3, ndelta2)*sd2+m2\n",
    "pop = 0*delta2vals\n",
    "\n",
    "# absorption at signal frequency\n",
    "abs_vals = 0*Pmu_vals_dBm\n",
    "\n",
    "\n",
    "for ii in range(len(Pmu_vals_dBm)):\n",
    "    p['a'] = avals[ii]/alpha\n",
    "    omegam_from_Pin(Pmu_vals_dBm[ii], p)\n",
    "    for jj in range(len(delta2vals)):\n",
    "        p['delta2'] = delta2vals[jj]\n",
    "        rho = steady_rho_python(p)\n",
    "        pop[jj] = rho[0, 0].real-rho[2, 2].real\n",
    "        #print('%d %g %g'%(jj,delta2vals[jj],pop[jj]))\n",
    "    abs_vals[ii] = integrate.simps(pop)\n",
    "\n",
    "\n",
    "abs_vals = abs_vals/max(abs_vals)"
   ]
  },
  {
   "cell_type": "code",
   "execution_count": 23,
   "metadata": {
    "ExecuteTime": {
     "end_time": "2019-05-22T08:02:29.305660Z",
     "start_time": "2019-05-22T08:02:29.227147Z"
    }
   },
   "outputs": [
    {
     "data": {
      "image/png": "[encoded data removed]",
      "text/plain": [
       "<Figure size 640x480 with 1 Axes>"
      ]
     },
     "metadata": {},
     "output_type": "display_data"
    }
   ],
   "source": [
    "plt.plot(Pmu_vals_dBm, abs_vals, '-')\n",
    "plt.ylabel('absorption (a.u.)')\n",
    "plt.xlabel('MW power input (dBm)')\n",
    "\n",
    "saved_output['abs_vals'] = abs_vals"
   ]
  },
  {
   "cell_type": "markdown",
   "metadata": {
    "ExecuteTime": {
     "end_time": "2019-03-07T21:34:28.926681Z",
     "start_time": "2019-03-07T21:34:28.925005Z"
    }
   },
   "source": [
    "## Looking at population distribution\n",
    "### Higher power microwave driving"
   ]
  },
  {
   "cell_type": "code",
   "execution_count": 24,
   "metadata": {
    "ExecuteTime": {
     "end_time": "2019-05-22T08:03:08.541381Z",
     "start_time": "2019-05-22T08:02:29.307166Z"
    }
   },
   "outputs": [
    {
     "ename": "NameError",
     "evalue": "name 'ensemble_steady_rho13_integrated' is not defined",
     "output_type": "error",
     "traceback": [
      "\u001b[0;31m---------------------------------------------------------------------------\u001b[0m",
      "\u001b[0;31mNameError\u001b[0m                                 Traceback (most recent call last)",
      "Cell \u001b[0;32mIn[24], line 7\u001b[0m\n\u001b[1;32m      5\u001b[0m p[\u001b[38;5;124m'\u001b[39m\u001b[38;5;124ma\u001b[39m\u001b[38;5;124m'\u001b[39m] \u001b[38;5;241m=\u001b[39m \u001b[38;5;241m0\u001b[39m\n\u001b[1;32m      6\u001b[0m p[\u001b[38;5;124m'\u001b[39m\u001b[38;5;124mdf\u001b[39m\u001b[38;5;124m'\u001b[39m] \u001b[38;5;241m=\u001b[39m \u001b[38;5;241m5e6\u001b[39m\n\u001b[0;32m----> 7\u001b[0m \u001b[43msteadya\u001b[49m\u001b[43m(\u001b[49m\u001b[43mp\u001b[49m\u001b[43m)\u001b[49m\n\u001b[1;32m      8\u001b[0m \u001b[38;5;28mprint\u001b[39m(p[\u001b[38;5;124m'\u001b[39m\u001b[38;5;124ma\u001b[39m\u001b[38;5;124m'\u001b[39m])\n\u001b[1;32m      9\u001b[0m \u001b[38;5;28;01mif\u001b[39;00m patience \u001b[38;5;241m==\u001b[39m \u001b[38;5;241m0\u001b[39m:\n",
      "Cell \u001b[0;32mIn[12], line 32\u001b[0m, in \u001b[0;36msteadya\u001b[0;34m(p)\u001b[0m\n\u001b[1;32m     30\u001b[0m avec \u001b[38;5;241m=\u001b[39m [a\u001b[38;5;241m.\u001b[39mreal, a\u001b[38;5;241m.\u001b[39mimag]\n\u001b[1;32m     31\u001b[0m df \u001b[38;5;241m=\u001b[39m p[\u001b[38;5;124m'\u001b[39m\u001b[38;5;124mdf\u001b[39m\u001b[38;5;124m'\u001b[39m]\n\u001b[0;32m---> 32\u001b[0m result \u001b[38;5;241m=\u001b[39m \u001b[43mscipy\u001b[49m\u001b[38;5;241;43m.\u001b[39;49m\u001b[43moptimize\u001b[49m\u001b[38;5;241;43m.\u001b[39;49m\u001b[43mroot\u001b[49m\u001b[43m(\u001b[49m\u001b[43mffunc_for_root\u001b[49m\u001b[43m,\u001b[49m\u001b[43m \u001b[49m\u001b[43mavec\u001b[49m\u001b[43m,\u001b[49m\u001b[43m \u001b[49m\u001b[43margs\u001b[49m\u001b[38;5;241;43m=\u001b[39;49m\u001b[43m(\u001b[49m\u001b[43mp\u001b[49m\u001b[43m)\u001b[49m\u001b[43m)\u001b[49m\n\u001b[1;32m     33\u001b[0m \u001b[38;5;28;01mif\u001b[39;00m \u001b[38;5;129;01mnot\u001b[39;00m result\u001b[38;5;241m.\u001b[39msuccess:\n\u001b[1;32m     34\u001b[0m     \u001b[38;5;28mprint\u001b[39m(result)\n",
      "File \u001b[0;32m/Library/Frameworks/Python.framework/Versions/3.11/lib/python3.11/site-packages/scipy/optimize/_root.py:236\u001b[0m, in \u001b[0;36mroot\u001b[0;34m(fun, x0, args, method, jac, tol, callback, options)\u001b[0m\n\u001b[1;32m    233\u001b[0m         options\u001b[38;5;241m.\u001b[39msetdefault(\u001b[38;5;124m'\u001b[39m\u001b[38;5;124mfatol\u001b[39m\u001b[38;5;124m'\u001b[39m, np\u001b[38;5;241m.\u001b[39minf)\n\u001b[1;32m    235\u001b[0m \u001b[38;5;28;01mif\u001b[39;00m meth \u001b[38;5;241m==\u001b[39m \u001b[38;5;124m'\u001b[39m\u001b[38;5;124mhybr\u001b[39m\u001b[38;5;124m'\u001b[39m:\n\u001b[0;32m--> 236\u001b[0m     sol \u001b[38;5;241m=\u001b[39m \u001b[43m_root_hybr\u001b[49m\u001b[43m(\u001b[49m\u001b[43mfun\u001b[49m\u001b[43m,\u001b[49m\u001b[43m \u001b[49m\u001b[43mx0\u001b[49m\u001b[43m,\u001b[49m\u001b[43m \u001b[49m\u001b[43margs\u001b[49m\u001b[38;5;241;43m=\u001b[39;49m\u001b[43margs\u001b[49m\u001b[43m,\u001b[49m\u001b[43m \u001b[49m\u001b[43mjac\u001b[49m\u001b[38;5;241;43m=\u001b[39;49m\u001b[43mjac\u001b[49m\u001b[43m,\u001b[49m\u001b[43m \u001b[49m\u001b[38;5;241;43m*\u001b[39;49m\u001b[38;5;241;43m*\u001b[39;49m\u001b[43moptions\u001b[49m\u001b[43m)\u001b[49m\n\u001b[1;32m    237\u001b[0m \u001b[38;5;28;01melif\u001b[39;00m meth \u001b[38;5;241m==\u001b[39m \u001b[38;5;124m'\u001b[39m\u001b[38;5;124mlm\u001b[39m\u001b[38;5;124m'\u001b[39m:\n\u001b[1;32m    238\u001b[0m     sol \u001b[38;5;241m=\u001b[39m _root_leastsq(fun, x0, args\u001b[38;5;241m=\u001b[39margs, jac\u001b[38;5;241m=\u001b[39mjac, \u001b[38;5;241m*\u001b[39m\u001b[38;5;241m*\u001b[39moptions)\n",
      "File \u001b[0;32m/Library/Frameworks/Python.framework/Versions/3.11/lib/python3.11/site-packages/scipy/optimize/_minpack_py.py:228\u001b[0m, in \u001b[0;36m_root_hybr\u001b[0;34m(func, x0, args, jac, col_deriv, xtol, maxfev, band, eps, factor, diag, **unknown_options)\u001b[0m\n\u001b[1;32m    226\u001b[0m \u001b[38;5;28;01mif\u001b[39;00m \u001b[38;5;129;01mnot\u001b[39;00m \u001b[38;5;28misinstance\u001b[39m(args, \u001b[38;5;28mtuple\u001b[39m):\n\u001b[1;32m    227\u001b[0m     args \u001b[38;5;241m=\u001b[39m (args,)\n\u001b[0;32m--> 228\u001b[0m shape, dtype \u001b[38;5;241m=\u001b[39m \u001b[43m_check_func\u001b[49m\u001b[43m(\u001b[49m\u001b[38;5;124;43m'\u001b[39;49m\u001b[38;5;124;43mfsolve\u001b[39;49m\u001b[38;5;124;43m'\u001b[39;49m\u001b[43m,\u001b[49m\u001b[43m \u001b[49m\u001b[38;5;124;43m'\u001b[39;49m\u001b[38;5;124;43mfunc\u001b[39;49m\u001b[38;5;124;43m'\u001b[39;49m\u001b[43m,\u001b[49m\u001b[43m \u001b[49m\u001b[43mfunc\u001b[49m\u001b[43m,\u001b[49m\u001b[43m \u001b[49m\u001b[43mx0\u001b[49m\u001b[43m,\u001b[49m\u001b[43m \u001b[49m\u001b[43margs\u001b[49m\u001b[43m,\u001b[49m\u001b[43m \u001b[49m\u001b[43mn\u001b[49m\u001b[43m,\u001b[49m\u001b[43m \u001b[49m\u001b[43m(\u001b[49m\u001b[43mn\u001b[49m\u001b[43m,\u001b[49m\u001b[43m)\u001b[49m\u001b[43m)\u001b[49m\n\u001b[1;32m    229\u001b[0m \u001b[38;5;28;01mif\u001b[39;00m epsfcn \u001b[38;5;129;01mis\u001b[39;00m \u001b[38;5;28;01mNone\u001b[39;00m:\n\u001b[1;32m    230\u001b[0m     epsfcn \u001b[38;5;241m=\u001b[39m finfo(dtype)\u001b[38;5;241m.\u001b[39meps\n",
      "File \u001b[0;32m/Library/Frameworks/Python.framework/Versions/3.11/lib/python3.11/site-packages/scipy/optimize/_minpack_py.py:25\u001b[0m, in \u001b[0;36m_check_func\u001b[0;34m(checker, argname, thefunc, x0, args, numinputs, output_shape)\u001b[0m\n\u001b[1;32m     23\u001b[0m \u001b[38;5;28;01mdef\u001b[39;00m \u001b[38;5;21m_check_func\u001b[39m(checker, argname, thefunc, x0, args, numinputs,\n\u001b[1;32m     24\u001b[0m                 output_shape\u001b[38;5;241m=\u001b[39m\u001b[38;5;28;01mNone\u001b[39;00m):\n\u001b[0;32m---> 25\u001b[0m     res \u001b[38;5;241m=\u001b[39m atleast_1d(\u001b[43mthefunc\u001b[49m\u001b[43m(\u001b[49m\u001b[38;5;241;43m*\u001b[39;49m\u001b[43m(\u001b[49m\u001b[43m(\u001b[49m\u001b[43mx0\u001b[49m\u001b[43m[\u001b[49m\u001b[43m:\u001b[49m\u001b[43mnuminputs\u001b[49m\u001b[43m]\u001b[49m\u001b[43m,\u001b[49m\u001b[43m)\u001b[49m\u001b[43m \u001b[49m\u001b[38;5;241;43m+\u001b[39;49m\u001b[43m \u001b[49m\u001b[43margs\u001b[49m\u001b[43m)\u001b[49m\u001b[43m)\u001b[49m)\n\u001b[1;32m     26\u001b[0m     \u001b[38;5;28;01mif\u001b[39;00m (output_shape \u001b[38;5;129;01mis\u001b[39;00m \u001b[38;5;129;01mnot\u001b[39;00m \u001b[38;5;28;01mNone\u001b[39;00m) \u001b[38;5;129;01mand\u001b[39;00m (shape(res) \u001b[38;5;241m!=\u001b[39m output_shape):\n\u001b[1;32m     27\u001b[0m         \u001b[38;5;28;01mif\u001b[39;00m (output_shape[\u001b[38;5;241m0\u001b[39m] \u001b[38;5;241m!=\u001b[39m \u001b[38;5;241m1\u001b[39m):\n",
      "Cell \u001b[0;32mIn[12], line 21\u001b[0m, in \u001b[0;36mffunc_for_root\u001b[0;34m(avec, p)\u001b[0m\n\u001b[1;32m     19\u001b[0m \u001b[38;5;66;03m# print(a)\u001b[39;00m\n\u001b[1;32m     20\u001b[0m p[\u001b[38;5;124m'\u001b[39m\u001b[38;5;124ma\u001b[39m\u001b[38;5;124m'\u001b[39m] \u001b[38;5;241m=\u001b[39m a\n\u001b[0;32m---> 21\u001b[0m f \u001b[38;5;241m=\u001b[39m \u001b[43mffunc\u001b[49m\u001b[43m(\u001b[49m\u001b[43mp\u001b[49m\u001b[43m)\u001b[49m\n\u001b[1;32m     22\u001b[0m \u001b[38;5;28;01mreturn\u001b[39;00m [f\u001b[38;5;241m.\u001b[39mreal, f\u001b[38;5;241m.\u001b[39mimag]\n",
      "Cell \u001b[0;32mIn[12], line 9\u001b[0m, in \u001b[0;36mffunc\u001b[0;34m(p)\u001b[0m\n\u001b[1;32m      7\u001b[0m deltac \u001b[38;5;241m=\u001b[39m p[\u001b[38;5;124m'\u001b[39m\u001b[38;5;124mdeltac\u001b[39m\u001b[38;5;124m'\u001b[39m]\n\u001b[1;32m      8\u001b[0m kappa \u001b[38;5;241m=\u001b[39m p[\u001b[38;5;124m'\u001b[39m\u001b[38;5;124mkappaoi\u001b[39m\u001b[38;5;124m'\u001b[39m]\u001b[38;5;241m+\u001b[39mp[\u001b[38;5;124m'\u001b[39m\u001b[38;5;124mkappaoc\u001b[39m\u001b[38;5;124m'\u001b[39m]\n\u001b[0;32m----> 9\u001b[0m S13 \u001b[38;5;241m=\u001b[39m N\u001b[38;5;241m*\u001b[39mg\u001b[38;5;241m*\u001b[39m\u001b[43mensemble_steady_rho13_integrated\u001b[49m(p, df)\n\u001b[1;32m     10\u001b[0m \u001b[38;5;28;01mreturn\u001b[39;00m \u001b[38;5;241m-\u001b[39m\u001b[38;5;241m1\u001b[39mj\u001b[38;5;241m*\u001b[39mdeltac\u001b[38;5;241m*\u001b[39ma \u001b[38;5;241m-\u001b[39m \u001b[38;5;241m1\u001b[39mj\u001b[38;5;241m*\u001b[39mS13 \u001b[38;5;241m-\u001b[39m kappa\u001b[38;5;241m/\u001b[39m\u001b[38;5;241m2\u001b[39m\u001b[38;5;241m*\u001b[39ma\n",
      "\u001b[0;31mNameError\u001b[0m: name 'ensemble_steady_rho13_integrated' is not defined"
     ]
    }
   ],
   "source": [
    "# set the microwave power to -20 dBm\n",
    "omegam_from_Pin(-20, p)\n",
    "saved_output['highpower'] = -20\n",
    "\n",
    "p['a'] = 0\n",
    "p['df'] = 5e6\n",
    "steadya(p)\n",
    "print(p['a'])\n",
    "if patience == 0:\n",
    "    p['df'] = 2e6\n",
    "else:\n",
    "    p['df'] = 0.5e6\n",
    "\n",
    "steadya(p)\n",
    "print(p['a'])"
   ]
  },
  {
   "cell_type": "code",
   "execution_count": 25,
   "metadata": {
    "ExecuteTime": {
     "end_time": "2019-05-22T08:03:15.177687Z",
     "start_time": "2019-05-22T08:03:08.544115Z"
    }
   },
   "outputs": [
    {
     "ename": "NameError",
     "evalue": "name 'steady_rho_python' is not defined",
     "output_type": "error",
     "traceback": [
      "\u001b[0;31m---------------------------------------------------------------------------\u001b[0m",
      "\u001b[0;31mNameError\u001b[0m                                 Traceback (most recent call last)",
      "Cell \u001b[0;32mIn[25], line 18\u001b[0m\n\u001b[1;32m     16\u001b[0m p[\u001b[38;5;124m'\u001b[39m\u001b[38;5;124mdelta2\u001b[39m\u001b[38;5;124m'\u001b[39m] \u001b[38;5;241m=\u001b[39m delta_mu_vals[ii]\n\u001b[1;32m     17\u001b[0m p[\u001b[38;5;124m'\u001b[39m\u001b[38;5;124mdelta3\u001b[39m\u001b[38;5;124m'\u001b[39m] \u001b[38;5;241m=\u001b[39m delta_o_vals[jj]\u001b[38;5;241m-\u001b[39mdelta_mu_vals[ii]\n\u001b[0;32m---> 18\u001b[0m rho \u001b[38;5;241m=\u001b[39m \u001b[43msteady_rho_python\u001b[49m(p)\n\u001b[1;32m     19\u001b[0m \u001b[38;5;28;01mfor\u001b[39;00m kk \u001b[38;5;129;01min\u001b[39;00m \u001b[38;5;28mrange\u001b[39m(\u001b[38;5;241m3\u001b[39m):\n\u001b[1;32m     20\u001b[0m     pop[ii, jj, kk] \u001b[38;5;241m=\u001b[39m rho[kk, kk]\u001b[38;5;241m.\u001b[39mreal\n",
      "\u001b[0;31mNameError\u001b[0m: name 'steady_rho_python' is not defined"
     ]
    }
   ],
   "source": [
    "if patience == 2:\n",
    "    npts = 301\n",
    "elif patience == 1:\n",
    "    npts = 101\n",
    "elif patience == 0:\n",
    "    npts = 101\n",
    "\n",
    "\n",
    "delta_o_vals = np.linspace(-50e6, 50e6, npts)\n",
    "delta_mu_vals = np.linspace(-30e6, 30e6, npts)\n",
    "\n",
    "pop = np.zeros((len(delta_o_vals), len(delta_mu_vals), 3))\n",
    "\n",
    "for ii in range(len(delta_o_vals)):\n",
    "    for jj in range(len(delta_mu_vals)):\n",
    "        p['delta2'] = delta_mu_vals[ii]\n",
    "        p['delta3'] = delta_o_vals[jj]-delta_mu_vals[ii]\n",
    "        rho = steady_rho_python(p)\n",
    "        for kk in range(3):\n",
    "            pop[ii, jj, kk] = rho[kk, kk].real"
   ]
  },
  {
   "cell_type": "code",
   "execution_count": 26,
   "metadata": {
    "ExecuteTime": {
     "end_time": "2019-05-22T08:03:15.327438Z",
     "start_time": "2019-05-22T08:03:15.178810Z"
    }
   },
   "outputs": [
    {
     "data": {
      "image/png": "[encoded data removed]",
      "text/plain": [
       "<Figure size 800x400 with 2 Axes>"
      ]
     },
     "metadata": {},
     "output_type": "display_data"
    }
   ],
   "source": [
    "plt.rcParams['figure.figsize'] = [8, 4]\n",
    "plt.imshow(pop[:, :, 0]-pop[:, :, 2],\n",
    "           extent=[min(delta_o_vals)/1e6,\n",
    "                   max(delta_o_vals)/1e6,\n",
    "                   max(delta_mu_vals)/1e6,\n",
    "                   min(delta_mu_vals)/1e6],\n",
    "           vmin=0, vmax=0.05)\n",
    "plt.ylabel('delta_\\mu (MHz)')\n",
    "plt.xlabel('delta__o (MHz)')\n",
    "plt.title('rho11-rho33 -20dBm in')\n",
    "plt.colorbar()\n",
    "\n",
    "saved_output['delta_o_vals'] = delta_o_vals\n",
    "saved_output['delta_mu_vals'] = delta_mu_vals\n",
    "saved_output['pop_diff_highpower'] = pop[:, :, 0]-pop[:, :, 2]"
   ]
  },
  {
   "cell_type": "markdown",
   "metadata": {},
   "source": [
    "### lower microwave power"
   ]
  },
  {
   "cell_type": "code",
   "execution_count": 27,
   "metadata": {
    "ExecuteTime": {
     "end_time": "2019-05-22T08:04:41.637149Z",
     "start_time": "2019-05-22T08:03:15.328626Z"
    }
   },
   "outputs": [
    {
     "ename": "NameError",
     "evalue": "name 'ensemble_steady_rho13_integrated' is not defined",
     "output_type": "error",
     "traceback": [
      "\u001b[0;31m---------------------------------------------------------------------------\u001b[0m",
      "\u001b[0;31mNameError\u001b[0m                                 Traceback (most recent call last)",
      "Cell \u001b[0;32mIn[27], line 7\u001b[0m\n\u001b[1;32m      5\u001b[0m p[\u001b[38;5;124m'\u001b[39m\u001b[38;5;124ma\u001b[39m\u001b[38;5;124m'\u001b[39m] \u001b[38;5;241m=\u001b[39m \u001b[38;5;241m0\u001b[39m\n\u001b[1;32m      6\u001b[0m p[\u001b[38;5;124m'\u001b[39m\u001b[38;5;124mdf\u001b[39m\u001b[38;5;124m'\u001b[39m] \u001b[38;5;241m=\u001b[39m \u001b[38;5;241m5e6\u001b[39m\n\u001b[0;32m----> 7\u001b[0m \u001b[43msteadya\u001b[49m\u001b[43m(\u001b[49m\u001b[43mp\u001b[49m\u001b[43m)\u001b[49m\n\u001b[1;32m      8\u001b[0m \u001b[38;5;28mprint\u001b[39m(p[\u001b[38;5;124m'\u001b[39m\u001b[38;5;124ma\u001b[39m\u001b[38;5;124m'\u001b[39m])\n\u001b[1;32m      9\u001b[0m \u001b[38;5;28;01mif\u001b[39;00m patience \u001b[38;5;241m==\u001b[39m \u001b[38;5;241m0\u001b[39m:\n",
      "Cell \u001b[0;32mIn[12], line 32\u001b[0m, in \u001b[0;36msteadya\u001b[0;34m(p)\u001b[0m\n\u001b[1;32m     30\u001b[0m avec \u001b[38;5;241m=\u001b[39m [a\u001b[38;5;241m.\u001b[39mreal, a\u001b[38;5;241m.\u001b[39mimag]\n\u001b[1;32m     31\u001b[0m df \u001b[38;5;241m=\u001b[39m p[\u001b[38;5;124m'\u001b[39m\u001b[38;5;124mdf\u001b[39m\u001b[38;5;124m'\u001b[39m]\n\u001b[0;32m---> 32\u001b[0m result \u001b[38;5;241m=\u001b[39m \u001b[43mscipy\u001b[49m\u001b[38;5;241;43m.\u001b[39;49m\u001b[43moptimize\u001b[49m\u001b[38;5;241;43m.\u001b[39;49m\u001b[43mroot\u001b[49m\u001b[43m(\u001b[49m\u001b[43mffunc_for_root\u001b[49m\u001b[43m,\u001b[49m\u001b[43m \u001b[49m\u001b[43mavec\u001b[49m\u001b[43m,\u001b[49m\u001b[43m \u001b[49m\u001b[43margs\u001b[49m\u001b[38;5;241;43m=\u001b[39;49m\u001b[43m(\u001b[49m\u001b[43mp\u001b[49m\u001b[43m)\u001b[49m\u001b[43m)\u001b[49m\n\u001b[1;32m     33\u001b[0m \u001b[38;5;28;01mif\u001b[39;00m \u001b[38;5;129;01mnot\u001b[39;00m result\u001b[38;5;241m.\u001b[39msuccess:\n\u001b[1;32m     34\u001b[0m     \u001b[38;5;28mprint\u001b[39m(result)\n",
      "File \u001b[0;32m/Library/Frameworks/Python.framework/Versions/3.11/lib/python3.11/site-packages/scipy/optimize/_root.py:236\u001b[0m, in \u001b[0;36mroot\u001b[0;34m(fun, x0, args, method, jac, tol, callback, options)\u001b[0m\n\u001b[1;32m    233\u001b[0m         options\u001b[38;5;241m.\u001b[39msetdefault(\u001b[38;5;124m'\u001b[39m\u001b[38;5;124mfatol\u001b[39m\u001b[38;5;124m'\u001b[39m, np\u001b[38;5;241m.\u001b[39minf)\n\u001b[1;32m    235\u001b[0m \u001b[38;5;28;01mif\u001b[39;00m meth \u001b[38;5;241m==\u001b[39m \u001b[38;5;124m'\u001b[39m\u001b[38;5;124mhybr\u001b[39m\u001b[38;5;124m'\u001b[39m:\n\u001b[0;32m--> 236\u001b[0m     sol \u001b[38;5;241m=\u001b[39m \u001b[43m_root_hybr\u001b[49m\u001b[43m(\u001b[49m\u001b[43mfun\u001b[49m\u001b[43m,\u001b[49m\u001b[43m \u001b[49m\u001b[43mx0\u001b[49m\u001b[43m,\u001b[49m\u001b[43m \u001b[49m\u001b[43margs\u001b[49m\u001b[38;5;241;43m=\u001b[39;49m\u001b[43margs\u001b[49m\u001b[43m,\u001b[49m\u001b[43m \u001b[49m\u001b[43mjac\u001b[49m\u001b[38;5;241;43m=\u001b[39;49m\u001b[43mjac\u001b[49m\u001b[43m,\u001b[49m\u001b[43m \u001b[49m\u001b[38;5;241;43m*\u001b[39;49m\u001b[38;5;241;43m*\u001b[39;49m\u001b[43moptions\u001b[49m\u001b[43m)\u001b[49m\n\u001b[1;32m    237\u001b[0m \u001b[38;5;28;01melif\u001b[39;00m meth \u001b[38;5;241m==\u001b[39m \u001b[38;5;124m'\u001b[39m\u001b[38;5;124mlm\u001b[39m\u001b[38;5;124m'\u001b[39m:\n\u001b[1;32m    238\u001b[0m     sol \u001b[38;5;241m=\u001b[39m _root_leastsq(fun, x0, args\u001b[38;5;241m=\u001b[39margs, jac\u001b[38;5;241m=\u001b[39mjac, \u001b[38;5;241m*\u001b[39m\u001b[38;5;241m*\u001b[39moptions)\n",
      "File \u001b[0;32m/Library/Frameworks/Python.framework/Versions/3.11/lib/python3.11/site-packages/scipy/optimize/_minpack_py.py:228\u001b[0m, in \u001b[0;36m_root_hybr\u001b[0;34m(func, x0, args, jac, col_deriv, xtol, maxfev, band, eps, factor, diag, **unknown_options)\u001b[0m\n\u001b[1;32m    226\u001b[0m \u001b[38;5;28;01mif\u001b[39;00m \u001b[38;5;129;01mnot\u001b[39;00m \u001b[38;5;28misinstance\u001b[39m(args, \u001b[38;5;28mtuple\u001b[39m):\n\u001b[1;32m    227\u001b[0m     args \u001b[38;5;241m=\u001b[39m (args,)\n\u001b[0;32m--> 228\u001b[0m shape, dtype \u001b[38;5;241m=\u001b[39m \u001b[43m_check_func\u001b[49m\u001b[43m(\u001b[49m\u001b[38;5;124;43m'\u001b[39;49m\u001b[38;5;124;43mfsolve\u001b[39;49m\u001b[38;5;124;43m'\u001b[39;49m\u001b[43m,\u001b[49m\u001b[43m \u001b[49m\u001b[38;5;124;43m'\u001b[39;49m\u001b[38;5;124;43mfunc\u001b[39;49m\u001b[38;5;124;43m'\u001b[39;49m\u001b[43m,\u001b[49m\u001b[43m \u001b[49m\u001b[43mfunc\u001b[49m\u001b[43m,\u001b[49m\u001b[43m \u001b[49m\u001b[43mx0\u001b[49m\u001b[43m,\u001b[49m\u001b[43m \u001b[49m\u001b[43margs\u001b[49m\u001b[43m,\u001b[49m\u001b[43m \u001b[49m\u001b[43mn\u001b[49m\u001b[43m,\u001b[49m\u001b[43m \u001b[49m\u001b[43m(\u001b[49m\u001b[43mn\u001b[49m\u001b[43m,\u001b[49m\u001b[43m)\u001b[49m\u001b[43m)\u001b[49m\n\u001b[1;32m    229\u001b[0m \u001b[38;5;28;01mif\u001b[39;00m epsfcn \u001b[38;5;129;01mis\u001b[39;00m \u001b[38;5;28;01mNone\u001b[39;00m:\n\u001b[1;32m    230\u001b[0m     epsfcn \u001b[38;5;241m=\u001b[39m finfo(dtype)\u001b[38;5;241m.\u001b[39meps\n",
      "File \u001b[0;32m/Library/Frameworks/Python.framework/Versions/3.11/lib/python3.11/site-packages/scipy/optimize/_minpack_py.py:25\u001b[0m, in \u001b[0;36m_check_func\u001b[0;34m(checker, argname, thefunc, x0, args, numinputs, output_shape)\u001b[0m\n\u001b[1;32m     23\u001b[0m \u001b[38;5;28;01mdef\u001b[39;00m \u001b[38;5;21m_check_func\u001b[39m(checker, argname, thefunc, x0, args, numinputs,\n\u001b[1;32m     24\u001b[0m                 output_shape\u001b[38;5;241m=\u001b[39m\u001b[38;5;28;01mNone\u001b[39;00m):\n\u001b[0;32m---> 25\u001b[0m     res \u001b[38;5;241m=\u001b[39m atleast_1d(\u001b[43mthefunc\u001b[49m\u001b[43m(\u001b[49m\u001b[38;5;241;43m*\u001b[39;49m\u001b[43m(\u001b[49m\u001b[43m(\u001b[49m\u001b[43mx0\u001b[49m\u001b[43m[\u001b[49m\u001b[43m:\u001b[49m\u001b[43mnuminputs\u001b[49m\u001b[43m]\u001b[49m\u001b[43m,\u001b[49m\u001b[43m)\u001b[49m\u001b[43m \u001b[49m\u001b[38;5;241;43m+\u001b[39;49m\u001b[43m \u001b[49m\u001b[43margs\u001b[49m\u001b[43m)\u001b[49m\u001b[43m)\u001b[49m)\n\u001b[1;32m     26\u001b[0m     \u001b[38;5;28;01mif\u001b[39;00m (output_shape \u001b[38;5;129;01mis\u001b[39;00m \u001b[38;5;129;01mnot\u001b[39;00m \u001b[38;5;28;01mNone\u001b[39;00m) \u001b[38;5;129;01mand\u001b[39;00m (shape(res) \u001b[38;5;241m!=\u001b[39m output_shape):\n\u001b[1;32m     27\u001b[0m         \u001b[38;5;28;01mif\u001b[39;00m (output_shape[\u001b[38;5;241m0\u001b[39m] \u001b[38;5;241m!=\u001b[39m \u001b[38;5;241m1\u001b[39m):\n",
      "Cell \u001b[0;32mIn[12], line 21\u001b[0m, in \u001b[0;36mffunc_for_root\u001b[0;34m(avec, p)\u001b[0m\n\u001b[1;32m     19\u001b[0m \u001b[38;5;66;03m# print(a)\u001b[39;00m\n\u001b[1;32m     20\u001b[0m p[\u001b[38;5;124m'\u001b[39m\u001b[38;5;124ma\u001b[39m\u001b[38;5;124m'\u001b[39m] \u001b[38;5;241m=\u001b[39m a\n\u001b[0;32m---> 21\u001b[0m f \u001b[38;5;241m=\u001b[39m \u001b[43mffunc\u001b[49m\u001b[43m(\u001b[49m\u001b[43mp\u001b[49m\u001b[43m)\u001b[49m\n\u001b[1;32m     22\u001b[0m \u001b[38;5;28;01mreturn\u001b[39;00m [f\u001b[38;5;241m.\u001b[39mreal, f\u001b[38;5;241m.\u001b[39mimag]\n",
      "Cell \u001b[0;32mIn[12], line 9\u001b[0m, in \u001b[0;36mffunc\u001b[0;34m(p)\u001b[0m\n\u001b[1;32m      7\u001b[0m deltac \u001b[38;5;241m=\u001b[39m p[\u001b[38;5;124m'\u001b[39m\u001b[38;5;124mdeltac\u001b[39m\u001b[38;5;124m'\u001b[39m]\n\u001b[1;32m      8\u001b[0m kappa \u001b[38;5;241m=\u001b[39m p[\u001b[38;5;124m'\u001b[39m\u001b[38;5;124mkappaoi\u001b[39m\u001b[38;5;124m'\u001b[39m]\u001b[38;5;241m+\u001b[39mp[\u001b[38;5;124m'\u001b[39m\u001b[38;5;124mkappaoc\u001b[39m\u001b[38;5;124m'\u001b[39m]\n\u001b[0;32m----> 9\u001b[0m S13 \u001b[38;5;241m=\u001b[39m N\u001b[38;5;241m*\u001b[39mg\u001b[38;5;241m*\u001b[39m\u001b[43mensemble_steady_rho13_integrated\u001b[49m(p, df)\n\u001b[1;32m     10\u001b[0m \u001b[38;5;28;01mreturn\u001b[39;00m \u001b[38;5;241m-\u001b[39m\u001b[38;5;241m1\u001b[39mj\u001b[38;5;241m*\u001b[39mdeltac\u001b[38;5;241m*\u001b[39ma \u001b[38;5;241m-\u001b[39m \u001b[38;5;241m1\u001b[39mj\u001b[38;5;241m*\u001b[39mS13 \u001b[38;5;241m-\u001b[39m kappa\u001b[38;5;241m/\u001b[39m\u001b[38;5;241m2\u001b[39m\u001b[38;5;241m*\u001b[39ma\n",
      "\u001b[0;31mNameError\u001b[0m: name 'ensemble_steady_rho13_integrated' is not defined"
     ]
    }
   ],
   "source": [
    "# set the microwave power to -50dBm\n",
    "omegam_from_Pin(-50, p)\n",
    "saved_output['lowpower'] = -50\n",
    "\n",
    "p['a'] = 0\n",
    "p['df'] = 5e6\n",
    "steadya(p)\n",
    "print(p['a'])\n",
    "if patience == 0:\n",
    "    p['df'] = 2e6\n",
    "else:\n",
    "    p['df'] = 0.5e6\n",
    "\n",
    "steadya(p)\n",
    "print(p['a'])"
   ]
  },
  {
   "cell_type": "code",
   "execution_count": 28,
   "metadata": {
    "ExecuteTime": {
     "end_time": "2019-05-22T08:04:48.436500Z",
     "start_time": "2019-05-22T08:04:41.640970Z"
    }
   },
   "outputs": [
    {
     "ename": "NameError",
     "evalue": "name 'steady_rho_python' is not defined",
     "output_type": "error",
     "traceback": [
      "\u001b[0;31m---------------------------------------------------------------------------\u001b[0m",
      "\u001b[0;31mNameError\u001b[0m                                 Traceback (most recent call last)",
      "Cell \u001b[0;32mIn[28], line 18\u001b[0m\n\u001b[1;32m     16\u001b[0m p[\u001b[38;5;124m'\u001b[39m\u001b[38;5;124mdelta2\u001b[39m\u001b[38;5;124m'\u001b[39m] \u001b[38;5;241m=\u001b[39m delta_mu_vals[ii]\n\u001b[1;32m     17\u001b[0m p[\u001b[38;5;124m'\u001b[39m\u001b[38;5;124mdelta3\u001b[39m\u001b[38;5;124m'\u001b[39m] \u001b[38;5;241m=\u001b[39m delta_o_vals[jj]\u001b[38;5;241m-\u001b[39mdelta_mu_vals[ii]\n\u001b[0;32m---> 18\u001b[0m rho \u001b[38;5;241m=\u001b[39m \u001b[43msteady_rho_python\u001b[49m(p)\n\u001b[1;32m     19\u001b[0m \u001b[38;5;28;01mfor\u001b[39;00m kk \u001b[38;5;129;01min\u001b[39;00m \u001b[38;5;28mrange\u001b[39m(\u001b[38;5;241m3\u001b[39m):\n\u001b[1;32m     20\u001b[0m     pop[ii, jj, kk] \u001b[38;5;241m=\u001b[39m rho[kk, kk]\u001b[38;5;241m.\u001b[39mreal\n",
      "\u001b[0;31mNameError\u001b[0m: name 'steady_rho_python' is not defined"
     ]
    }
   ],
   "source": [
    "if patience == 2:\n",
    "    npts = 301\n",
    "elif patience == 1:\n",
    "    npts = 101\n",
    "elif patience == 0:\n",
    "    npts = 101\n",
    "\n",
    "\n",
    "delta_o_vals = np.linspace(-50e6, 50e6, npts)\n",
    "delta_mu_vals = np.linspace(-30e6, 30e6, npts)\n",
    "\n",
    "pop = np.zeros((len(delta_o_vals), len(delta_mu_vals), 3))\n",
    "\n",
    "for ii in range(len(delta_o_vals)):\n",
    "    for jj in range(len(delta_mu_vals)):\n",
    "        p['delta2'] = delta_mu_vals[ii]\n",
    "        p['delta3'] = delta_o_vals[jj]-delta_mu_vals[ii]\n",
    "        rho = steady_rho_python(p)\n",
    "        for kk in range(3):\n",
    "            pop[ii, jj, kk] = rho[kk, kk].real"
   ]
  },
  {
   "cell_type": "code",
   "execution_count": 29,
   "metadata": {
    "ExecuteTime": {
     "end_time": "2019-05-22T08:04:48.569003Z",
     "start_time": "2019-05-22T08:04:48.437567Z"
    },
    "scrolled": true
   },
   "outputs": [
    {
     "data": {
      "image/png": "[encoded data removed]",
      "text/plain": [
       "<Figure size 800x400 with 2 Axes>"
      ]
     },
     "metadata": {},
     "output_type": "display_data"
    }
   ],
   "source": [
    "plt.rcParams['figure.figsize'] = [8, 4]\n",
    "plt.imshow(pop[:, :, 0]-pop[:, :, 2],\n",
    "           extent=[min(delta_o_vals)/1e6, \n",
    "                   max(delta_o_vals)/1e6, \n",
    "                   max(delta_mu_vals)/1e6, \n",
    "                   min(delta_mu_vals)/1e6],\n",
    "          vmin=0,vmax=0.05)\n",
    "\n",
    "\n",
    "plt.ylabel('delta_\\mu (MHz)')\n",
    "plt.xlabel('delta__o (MHz)')\n",
    "plt.title('rho11-rho33 -50 dBm in')\n",
    "plt.colorbar();\n",
    "\n",
    "saved_output['delta_o_vals']=delta_o_vals\n",
    "saved_output['delta_mu_vals']=delta_mu_vals\n",
    "saved_output['pop_diff_lowpower']=pop[:, :, 0]-pop[:, :, 2]"
   ]
  },
  {
   "cell_type": "markdown",
   "metadata": {},
   "source": [
    "# Save output for later"
   ]
  },
  {
   "cell_type": "code",
   "execution_count": 30,
   "metadata": {
    "ExecuteTime": {
     "end_time": "2019-05-22T08:04:48.576348Z",
     "start_time": "2019-05-22T08:04:48.569997Z"
    }
   },
   "outputs": [
    {
     "ename": "NameError",
     "evalue": "name 'time' is not defined",
     "output_type": "error",
     "traceback": [
      "\u001b[0;31m---------------------------------------------------------------------------\u001b[0m",
      "\u001b[0;31mNameError\u001b[0m                                 Traceback (most recent call last)",
      "Cell \u001b[0;32mIn[30], line 1\u001b[0m\n\u001b[0;32m----> 1\u001b[0m filename \u001b[38;5;241m=\u001b[39m \u001b[43mtime\u001b[49m\u001b[38;5;241m.\u001b[39mstrftime(\u001b[38;5;124m\"\u001b[39m\u001b[38;5;124msaved_output_\u001b[39m\u001b[38;5;124m%\u001b[39m\u001b[38;5;124mY\u001b[39m\u001b[38;5;124m%\u001b[39m\u001b[38;5;124mm\u001b[39m\u001b[38;5;132;01m%d\u001b[39;00m\u001b[38;5;124m_\u001b[39m\u001b[38;5;124m%\u001b[39m\u001b[38;5;124mH\u001b[39m\u001b[38;5;124m%\u001b[39m\u001b[38;5;124mM\u001b[39m\u001b[38;5;124m%\u001b[39m\u001b[38;5;124mS.mat\u001b[39m\u001b[38;5;124m\"\u001b[39m, time\u001b[38;5;241m.\u001b[39mgmtime())\n\u001b[1;32m      2\u001b[0m sio\u001b[38;5;241m.\u001b[39msavemat(filename,saved_output)\n\u001b[1;32m      3\u001b[0m filename\n",
      "\u001b[0;31mNameError\u001b[0m: name 'time' is not defined"
     ]
    }
   ],
   "source": [
    "filename = time.strftime(\"saved_output_%Y%m%d_%H%M%S.mat\", time.gmtime())\n",
    "sio.savemat(filename,saved_output)\n",
    "filename"
   ]
  },
  {
   "cell_type": "code",
   "execution_count": null,
   "metadata": {},
   "outputs": [],
   "source": []
  },
  {
   "cell_type": "code",
   "execution_count": null,
   "metadata": {},
   "outputs": [],
   "source": []
  },
  {
   "cell_type": "code",
   "execution_count": null,
   "metadata": {},
   "outputs": [],
   "source": []
  }
 ],
 "metadata": {
  "kernelspec": {
   "display_name": "Python 3 (ipykernel)",
   "language": "python",
   "name": "python3"
  },
  "language_info": {
   "codemirror_mode": {
    "name": "ipython",
    "version": 3
   },
   "file_extension": ".py",
   "mimetype": "text/x-python",
   "name": "python",
   "nbconvert_exporter": "python",
   "pygments_lexer": "ipython3",
   "version": "3.11.0"
  },
  "toc": {
   "base_numbering": 1,
   "nav_menu": {},
   "number_sections": true,
   "sideBar": true,
   "skip_h1_title": false,
   "title_cell": "Table of Contents",
   "title_sidebar": "Contents",
   "toc_cell": false,
   "toc_position": {
    "height": "calc(100% - 180px)",
    "left": "10px",
    "top": "150px",
    "width": "308.833px"
   },
   "toc_section_display": true,
   "toc_window_display": true
  }
 },
 "nbformat": 4,
 "nbformat_minor": 2
}
